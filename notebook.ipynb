{
    "cells": [
        {
            "cell_type": "markdown",
            "metadata": {},
            "source": [
                "# Supervised Learning with scikit-learn\n",
                "\n"
            ]
        },
        {
            "cell_type": "markdown",
            "metadata": {},
            "source": [
                "## Classification\n",
                "\n"
            ]
        },
        {
            "cell_type": "markdown",
            "metadata": {},
            "source": [
                "### k-Nearest Neighbors: Fit\n",
                "\n",
                "In this exercise, you will build your first classification model using\n",
                "the `churn_df` dataset, which has been preloaded for the remainder of\n",
                "the chapter.\n",
                "\n",
                "The target, `\"churn\"`, needs to be a single column with the same number\n",
                "of observations as the feature data. The feature data has already been\n",
                "converted into `numpy` arrays.\n",
                "\n",
                "**Instructions**\n",
                "\n",
                "- Import `KNeighborsClassifier` from `sklearn.neighbors`.\n",
                "- Instantiate a `KNeighborsClassifier` called `knn` with `6` neighbors.\n",
                "- Fit the classifier to the data using the `.fit()` method.\n",
                "\n",
                "**Answer**\n"
            ]
        },
        {
            "cell_type": "code",
            "execution_count": 1,
            "metadata": {},
            "outputs": [
                {
                    "name": "stdout",
                    "output_type": "stream",
                    "text": [
                        "Defaulting to user installation because normal site-packages is not writeable\n",
                        "Collecting pandas\n",
                        "  Downloading pandas-2.2.2-cp312-cp312-manylinux_2_17_aarch64.manylinux2014_aarch64.whl.metadata (19 kB)\n",
                        "Collecting scikit-learn\n",
                        "  Downloading scikit_learn-1.5.0-cp312-cp312-manylinux_2_17_aarch64.manylinux2014_aarch64.whl.metadata (11 kB)\n",
                        "Collecting numpy>=1.26.0 (from pandas)\n",
                        "  Downloading numpy-1.26.4-cp312-cp312-manylinux_2_17_aarch64.manylinux2014_aarch64.whl.metadata (62 kB)\n",
                        "\u001b[2K     \u001b[90m━━━━━━━━━━━━━━━━━━━━━━━━━━━━━━━━━━━━━━━━\u001b[0m \u001b[32m62.3/62.3 kB\u001b[0m \u001b[31m2.9 MB/s\u001b[0m eta \u001b[36m0:00:00\u001b[0m\n",
                        "\u001b[?25hRequirement already satisfied: python-dateutil>=2.8.2 in /home/vscode/.local/lib/python3.12/site-packages (from pandas) (2.9.0.post0)\n",
                        "Collecting pytz>=2020.1 (from pandas)\n",
                        "  Downloading pytz-2024.1-py2.py3-none-any.whl.metadata (22 kB)\n",
                        "Collecting tzdata>=2022.7 (from pandas)\n",
                        "  Downloading tzdata-2024.1-py2.py3-none-any.whl.metadata (1.4 kB)\n",
                        "Collecting scipy>=1.6.0 (from scikit-learn)\n",
                        "  Downloading scipy-1.13.1-cp312-cp312-manylinux_2_17_aarch64.manylinux2014_aarch64.whl.metadata (113 kB)\n",
                        "\u001b[2K     \u001b[90m━━━━━━━━━━━━━━━━━━━━━━━━━━━━━━━━━━━━━━━\u001b[0m \u001b[32m113.1/113.1 kB\u001b[0m \u001b[31m5.4 MB/s\u001b[0m eta \u001b[36m0:00:00\u001b[0m\n",
                        "\u001b[?25hCollecting joblib>=1.2.0 (from scikit-learn)\n",
                        "  Downloading joblib-1.4.2-py3-none-any.whl.metadata (5.4 kB)\n",
                        "Collecting threadpoolctl>=3.1.0 (from scikit-learn)\n",
                        "  Downloading threadpoolctl-3.5.0-py3-none-any.whl.metadata (13 kB)\n",
                        "Requirement already satisfied: six>=1.5 in /home/vscode/.local/lib/python3.12/site-packages (from python-dateutil>=2.8.2->pandas) (1.16.0)\n",
                        "Downloading pandas-2.2.2-cp312-cp312-manylinux_2_17_aarch64.manylinux2014_aarch64.whl (15.2 MB)\n",
                        "\u001b[2K   \u001b[90m━━━━━━━━━━━━━━━━━━━━━━━━━━━━━━━━━━━━━━━━\u001b[0m \u001b[32m15.2/15.2 MB\u001b[0m \u001b[31m2.1 MB/s\u001b[0m eta \u001b[36m0:00:00\u001b[0m00:01\u001b[0m00:01\u001b[0m\n",
                        "\u001b[?25hDownloading scikit_learn-1.5.0-cp312-cp312-manylinux_2_17_aarch64.manylinux2014_aarch64.whl (12.1 MB)\n",
                        "\u001b[2K   \u001b[90m━━━━━━━━━━━━━━━━━━━━━━━━━━━━━━━━━━━━━━━━\u001b[0m \u001b[32m12.1/12.1 MB\u001b[0m \u001b[31m1.8 MB/s\u001b[0m eta \u001b[36m0:00:00\u001b[0m00:01\u001b[0m00:01\u001b[0m\n",
                        "\u001b[?25hDownloading joblib-1.4.2-py3-none-any.whl (301 kB)\n",
                        "\u001b[2K   \u001b[90m━━━━━━━━━━━━━━━━━━━━━━━━━━━━━━━━━━━━━━━━\u001b[0m \u001b[32m301.8/301.8 kB\u001b[0m \u001b[31m2.3 MB/s\u001b[0m eta \u001b[36m0:00:00\u001b[0ma \u001b[36m0:00:01\u001b[0m\n",
                        "\u001b[?25hDownloading numpy-1.26.4-cp312-cp312-manylinux_2_17_aarch64.manylinux2014_aarch64.whl (13.9 MB)\n",
                        "\u001b[2K   \u001b[90m━━━━━━━━━━━━━━━━━━━━━━━━━━━━━━━━━━━━━━━━\u001b[0m \u001b[32m13.9/13.9 MB\u001b[0m \u001b[31m2.1 MB/s\u001b[0m eta \u001b[36m0:00:00\u001b[0m00:01\u001b[0m00:01\u001b[0m\n",
                        "\u001b[?25hDownloading pytz-2024.1-py2.py3-none-any.whl (505 kB)\n",
                        "\u001b[2K   \u001b[90m━━━━━━━━━━━━━━━━━━━━━━━━━━━━━━━━━━━━━━━━\u001b[0m \u001b[32m505.5/505.5 kB\u001b[0m \u001b[31m1.1 MB/s\u001b[0m eta \u001b[36m0:00:00\u001b[0ma \u001b[36m0:00:01\u001b[0m\n",
                        "\u001b[?25hDownloading scipy-1.13.1-cp312-cp312-manylinux_2_17_aarch64.manylinux2014_aarch64.whl (33.4 MB)\n",
                        "\u001b[2K   \u001b[90m━━━━━━━━━━━━━━━━━━━━━━━━━━━━━━━━━━━━━━━━\u001b[0m \u001b[32m33.4/33.4 MB\u001b[0m \u001b[31m1.8 MB/s\u001b[0m eta \u001b[36m0:00:00\u001b[0m00:01\u001b[0m00:01\u001b[0m\n",
                        "\u001b[?25hDownloading threadpoolctl-3.5.0-py3-none-any.whl (18 kB)\n",
                        "Downloading tzdata-2024.1-py2.py3-none-any.whl (345 kB)\n",
                        "\u001b[2K   \u001b[90m━━━━━━━━━━━━━━━━━━━━━━━━━━━━━━━━━━━━━━━━\u001b[0m \u001b[32m345.4/345.4 kB\u001b[0m \u001b[31m1.9 MB/s\u001b[0m eta \u001b[36m0:00:00\u001b[0m00:01\u001b[0m00:01\u001b[0m\n",
                        "\u001b[?25hInstalling collected packages: pytz, tzdata, threadpoolctl, numpy, joblib, scipy, pandas, scikit-learn\n",
                        "Successfully installed joblib-1.4.2 numpy-1.26.4 pandas-2.2.2 pytz-2024.1 scikit-learn-1.5.0 scipy-1.13.1 threadpoolctl-3.5.0 tzdata-2024.1\n",
                        "Note: you may need to restart the kernel to use updated packages.\n"
                    ]
                }
            ],
            "source": [
                "pip install pandas scikit-learn"
            ]
        },
        {
            "cell_type": "code",
            "execution_count": 2,
            "metadata": {},
            "outputs": [],
            "source": [
                "# added/edited\n",
                "import pandas as pd\n",
                "churn_df = pd.read_csv(\"telecom_churn_clean.csv\")"
            ]
        },
        {
            "cell_type": "code",
            "execution_count": 3,
            "metadata": {},
            "outputs": [
                {
                    "data": {
                        "text/html": [
                            "<style>#sk-container-id-1 {\n",
                            "  /* Definition of color scheme common for light and dark mode */\n",
                            "  --sklearn-color-text: black;\n",
                            "  --sklearn-color-line: gray;\n",
                            "  /* Definition of color scheme for unfitted estimators */\n",
                            "  --sklearn-color-unfitted-level-0: #fff5e6;\n",
                            "  --sklearn-color-unfitted-level-1: #f6e4d2;\n",
                            "  --sklearn-color-unfitted-level-2: #ffe0b3;\n",
                            "  --sklearn-color-unfitted-level-3: chocolate;\n",
                            "  /* Definition of color scheme for fitted estimators */\n",
                            "  --sklearn-color-fitted-level-0: #f0f8ff;\n",
                            "  --sklearn-color-fitted-level-1: #d4ebff;\n",
                            "  --sklearn-color-fitted-level-2: #b3dbfd;\n",
                            "  --sklearn-color-fitted-level-3: cornflowerblue;\n",
                            "\n",
                            "  /* Specific color for light theme */\n",
                            "  --sklearn-color-text-on-default-background: var(--sg-text-color, var(--theme-code-foreground, var(--jp-content-font-color1, black)));\n",
                            "  --sklearn-color-background: var(--sg-background-color, var(--theme-background, var(--jp-layout-color0, white)));\n",
                            "  --sklearn-color-border-box: var(--sg-text-color, var(--theme-code-foreground, var(--jp-content-font-color1, black)));\n",
                            "  --sklearn-color-icon: #696969;\n",
                            "\n",
                            "  @media (prefers-color-scheme: dark) {\n",
                            "    /* Redefinition of color scheme for dark theme */\n",
                            "    --sklearn-color-text-on-default-background: var(--sg-text-color, var(--theme-code-foreground, var(--jp-content-font-color1, white)));\n",
                            "    --sklearn-color-background: var(--sg-background-color, var(--theme-background, var(--jp-layout-color0, #111)));\n",
                            "    --sklearn-color-border-box: var(--sg-text-color, var(--theme-code-foreground, var(--jp-content-font-color1, white)));\n",
                            "    --sklearn-color-icon: #878787;\n",
                            "  }\n",
                            "}\n",
                            "\n",
                            "#sk-container-id-1 {\n",
                            "  color: var(--sklearn-color-text);\n",
                            "}\n",
                            "\n",
                            "#sk-container-id-1 pre {\n",
                            "  padding: 0;\n",
                            "}\n",
                            "\n",
                            "#sk-container-id-1 input.sk-hidden--visually {\n",
                            "  border: 0;\n",
                            "  clip: rect(1px 1px 1px 1px);\n",
                            "  clip: rect(1px, 1px, 1px, 1px);\n",
                            "  height: 1px;\n",
                            "  margin: -1px;\n",
                            "  overflow: hidden;\n",
                            "  padding: 0;\n",
                            "  position: absolute;\n",
                            "  width: 1px;\n",
                            "}\n",
                            "\n",
                            "#sk-container-id-1 div.sk-dashed-wrapped {\n",
                            "  border: 1px dashed var(--sklearn-color-line);\n",
                            "  margin: 0 0.4em 0.5em 0.4em;\n",
                            "  box-sizing: border-box;\n",
                            "  padding-bottom: 0.4em;\n",
                            "  background-color: var(--sklearn-color-background);\n",
                            "}\n",
                            "\n",
                            "#sk-container-id-1 div.sk-container {\n",
                            "  /* jupyter's `normalize.less` sets `[hidden] { display: none; }`\n",
                            "     but bootstrap.min.css set `[hidden] { display: none !important; }`\n",
                            "     so we also need the `!important` here to be able to override the\n",
                            "     default hidden behavior on the sphinx rendered scikit-learn.org.\n",
                            "     See: https://github.com/scikit-learn/scikit-learn/issues/21755 */\n",
                            "  display: inline-block !important;\n",
                            "  position: relative;\n",
                            "}\n",
                            "\n",
                            "#sk-container-id-1 div.sk-text-repr-fallback {\n",
                            "  display: none;\n",
                            "}\n",
                            "\n",
                            "div.sk-parallel-item,\n",
                            "div.sk-serial,\n",
                            "div.sk-item {\n",
                            "  /* draw centered vertical line to link estimators */\n",
                            "  background-image: linear-gradient(var(--sklearn-color-text-on-default-background), var(--sklearn-color-text-on-default-background));\n",
                            "  background-size: 2px 100%;\n",
                            "  background-repeat: no-repeat;\n",
                            "  background-position: center center;\n",
                            "}\n",
                            "\n",
                            "/* Parallel-specific style estimator block */\n",
                            "\n",
                            "#sk-container-id-1 div.sk-parallel-item::after {\n",
                            "  content: \"\";\n",
                            "  width: 100%;\n",
                            "  border-bottom: 2px solid var(--sklearn-color-text-on-default-background);\n",
                            "  flex-grow: 1;\n",
                            "}\n",
                            "\n",
                            "#sk-container-id-1 div.sk-parallel {\n",
                            "  display: flex;\n",
                            "  align-items: stretch;\n",
                            "  justify-content: center;\n",
                            "  background-color: var(--sklearn-color-background);\n",
                            "  position: relative;\n",
                            "}\n",
                            "\n",
                            "#sk-container-id-1 div.sk-parallel-item {\n",
                            "  display: flex;\n",
                            "  flex-direction: column;\n",
                            "}\n",
                            "\n",
                            "#sk-container-id-1 div.sk-parallel-item:first-child::after {\n",
                            "  align-self: flex-end;\n",
                            "  width: 50%;\n",
                            "}\n",
                            "\n",
                            "#sk-container-id-1 div.sk-parallel-item:last-child::after {\n",
                            "  align-self: flex-start;\n",
                            "  width: 50%;\n",
                            "}\n",
                            "\n",
                            "#sk-container-id-1 div.sk-parallel-item:only-child::after {\n",
                            "  width: 0;\n",
                            "}\n",
                            "\n",
                            "/* Serial-specific style estimator block */\n",
                            "\n",
                            "#sk-container-id-1 div.sk-serial {\n",
                            "  display: flex;\n",
                            "  flex-direction: column;\n",
                            "  align-items: center;\n",
                            "  background-color: var(--sklearn-color-background);\n",
                            "  padding-right: 1em;\n",
                            "  padding-left: 1em;\n",
                            "}\n",
                            "\n",
                            "\n",
                            "/* Toggleable style: style used for estimator/Pipeline/ColumnTransformer box that is\n",
                            "clickable and can be expanded/collapsed.\n",
                            "- Pipeline and ColumnTransformer use this feature and define the default style\n",
                            "- Estimators will overwrite some part of the style using the `sk-estimator` class\n",
                            "*/\n",
                            "\n",
                            "/* Pipeline and ColumnTransformer style (default) */\n",
                            "\n",
                            "#sk-container-id-1 div.sk-toggleable {\n",
                            "  /* Default theme specific background. It is overwritten whether we have a\n",
                            "  specific estimator or a Pipeline/ColumnTransformer */\n",
                            "  background-color: var(--sklearn-color-background);\n",
                            "}\n",
                            "\n",
                            "/* Toggleable label */\n",
                            "#sk-container-id-1 label.sk-toggleable__label {\n",
                            "  cursor: pointer;\n",
                            "  display: block;\n",
                            "  width: 100%;\n",
                            "  margin-bottom: 0;\n",
                            "  padding: 0.5em;\n",
                            "  box-sizing: border-box;\n",
                            "  text-align: center;\n",
                            "}\n",
                            "\n",
                            "#sk-container-id-1 label.sk-toggleable__label-arrow:before {\n",
                            "  /* Arrow on the left of the label */\n",
                            "  content: \"▸\";\n",
                            "  float: left;\n",
                            "  margin-right: 0.25em;\n",
                            "  color: var(--sklearn-color-icon);\n",
                            "}\n",
                            "\n",
                            "#sk-container-id-1 label.sk-toggleable__label-arrow:hover:before {\n",
                            "  color: var(--sklearn-color-text);\n",
                            "}\n",
                            "\n",
                            "/* Toggleable content - dropdown */\n",
                            "\n",
                            "#sk-container-id-1 div.sk-toggleable__content {\n",
                            "  max-height: 0;\n",
                            "  max-width: 0;\n",
                            "  overflow: hidden;\n",
                            "  text-align: left;\n",
                            "  /* unfitted */\n",
                            "  background-color: var(--sklearn-color-unfitted-level-0);\n",
                            "}\n",
                            "\n",
                            "#sk-container-id-1 div.sk-toggleable__content.fitted {\n",
                            "  /* fitted */\n",
                            "  background-color: var(--sklearn-color-fitted-level-0);\n",
                            "}\n",
                            "\n",
                            "#sk-container-id-1 div.sk-toggleable__content pre {\n",
                            "  margin: 0.2em;\n",
                            "  border-radius: 0.25em;\n",
                            "  color: var(--sklearn-color-text);\n",
                            "  /* unfitted */\n",
                            "  background-color: var(--sklearn-color-unfitted-level-0);\n",
                            "}\n",
                            "\n",
                            "#sk-container-id-1 div.sk-toggleable__content.fitted pre {\n",
                            "  /* unfitted */\n",
                            "  background-color: var(--sklearn-color-fitted-level-0);\n",
                            "}\n",
                            "\n",
                            "#sk-container-id-1 input.sk-toggleable__control:checked~div.sk-toggleable__content {\n",
                            "  /* Expand drop-down */\n",
                            "  max-height: 200px;\n",
                            "  max-width: 100%;\n",
                            "  overflow: auto;\n",
                            "}\n",
                            "\n",
                            "#sk-container-id-1 input.sk-toggleable__control:checked~label.sk-toggleable__label-arrow:before {\n",
                            "  content: \"▾\";\n",
                            "}\n",
                            "\n",
                            "/* Pipeline/ColumnTransformer-specific style */\n",
                            "\n",
                            "#sk-container-id-1 div.sk-label input.sk-toggleable__control:checked~label.sk-toggleable__label {\n",
                            "  color: var(--sklearn-color-text);\n",
                            "  background-color: var(--sklearn-color-unfitted-level-2);\n",
                            "}\n",
                            "\n",
                            "#sk-container-id-1 div.sk-label.fitted input.sk-toggleable__control:checked~label.sk-toggleable__label {\n",
                            "  background-color: var(--sklearn-color-fitted-level-2);\n",
                            "}\n",
                            "\n",
                            "/* Estimator-specific style */\n",
                            "\n",
                            "/* Colorize estimator box */\n",
                            "#sk-container-id-1 div.sk-estimator input.sk-toggleable__control:checked~label.sk-toggleable__label {\n",
                            "  /* unfitted */\n",
                            "  background-color: var(--sklearn-color-unfitted-level-2);\n",
                            "}\n",
                            "\n",
                            "#sk-container-id-1 div.sk-estimator.fitted input.sk-toggleable__control:checked~label.sk-toggleable__label {\n",
                            "  /* fitted */\n",
                            "  background-color: var(--sklearn-color-fitted-level-2);\n",
                            "}\n",
                            "\n",
                            "#sk-container-id-1 div.sk-label label.sk-toggleable__label,\n",
                            "#sk-container-id-1 div.sk-label label {\n",
                            "  /* The background is the default theme color */\n",
                            "  color: var(--sklearn-color-text-on-default-background);\n",
                            "}\n",
                            "\n",
                            "/* On hover, darken the color of the background */\n",
                            "#sk-container-id-1 div.sk-label:hover label.sk-toggleable__label {\n",
                            "  color: var(--sklearn-color-text);\n",
                            "  background-color: var(--sklearn-color-unfitted-level-2);\n",
                            "}\n",
                            "\n",
                            "/* Label box, darken color on hover, fitted */\n",
                            "#sk-container-id-1 div.sk-label.fitted:hover label.sk-toggleable__label.fitted {\n",
                            "  color: var(--sklearn-color-text);\n",
                            "  background-color: var(--sklearn-color-fitted-level-2);\n",
                            "}\n",
                            "\n",
                            "/* Estimator label */\n",
                            "\n",
                            "#sk-container-id-1 div.sk-label label {\n",
                            "  font-family: monospace;\n",
                            "  font-weight: bold;\n",
                            "  display: inline-block;\n",
                            "  line-height: 1.2em;\n",
                            "}\n",
                            "\n",
                            "#sk-container-id-1 div.sk-label-container {\n",
                            "  text-align: center;\n",
                            "}\n",
                            "\n",
                            "/* Estimator-specific */\n",
                            "#sk-container-id-1 div.sk-estimator {\n",
                            "  font-family: monospace;\n",
                            "  border: 1px dotted var(--sklearn-color-border-box);\n",
                            "  border-radius: 0.25em;\n",
                            "  box-sizing: border-box;\n",
                            "  margin-bottom: 0.5em;\n",
                            "  /* unfitted */\n",
                            "  background-color: var(--sklearn-color-unfitted-level-0);\n",
                            "}\n",
                            "\n",
                            "#sk-container-id-1 div.sk-estimator.fitted {\n",
                            "  /* fitted */\n",
                            "  background-color: var(--sklearn-color-fitted-level-0);\n",
                            "}\n",
                            "\n",
                            "/* on hover */\n",
                            "#sk-container-id-1 div.sk-estimator:hover {\n",
                            "  /* unfitted */\n",
                            "  background-color: var(--sklearn-color-unfitted-level-2);\n",
                            "}\n",
                            "\n",
                            "#sk-container-id-1 div.sk-estimator.fitted:hover {\n",
                            "  /* fitted */\n",
                            "  background-color: var(--sklearn-color-fitted-level-2);\n",
                            "}\n",
                            "\n",
                            "/* Specification for estimator info (e.g. \"i\" and \"?\") */\n",
                            "\n",
                            "/* Common style for \"i\" and \"?\" */\n",
                            "\n",
                            ".sk-estimator-doc-link,\n",
                            "a:link.sk-estimator-doc-link,\n",
                            "a:visited.sk-estimator-doc-link {\n",
                            "  float: right;\n",
                            "  font-size: smaller;\n",
                            "  line-height: 1em;\n",
                            "  font-family: monospace;\n",
                            "  background-color: var(--sklearn-color-background);\n",
                            "  border-radius: 1em;\n",
                            "  height: 1em;\n",
                            "  width: 1em;\n",
                            "  text-decoration: none !important;\n",
                            "  margin-left: 1ex;\n",
                            "  /* unfitted */\n",
                            "  border: var(--sklearn-color-unfitted-level-1) 1pt solid;\n",
                            "  color: var(--sklearn-color-unfitted-level-1);\n",
                            "}\n",
                            "\n",
                            ".sk-estimator-doc-link.fitted,\n",
                            "a:link.sk-estimator-doc-link.fitted,\n",
                            "a:visited.sk-estimator-doc-link.fitted {\n",
                            "  /* fitted */\n",
                            "  border: var(--sklearn-color-fitted-level-1) 1pt solid;\n",
                            "  color: var(--sklearn-color-fitted-level-1);\n",
                            "}\n",
                            "\n",
                            "/* On hover */\n",
                            "div.sk-estimator:hover .sk-estimator-doc-link:hover,\n",
                            ".sk-estimator-doc-link:hover,\n",
                            "div.sk-label-container:hover .sk-estimator-doc-link:hover,\n",
                            ".sk-estimator-doc-link:hover {\n",
                            "  /* unfitted */\n",
                            "  background-color: var(--sklearn-color-unfitted-level-3);\n",
                            "  color: var(--sklearn-color-background);\n",
                            "  text-decoration: none;\n",
                            "}\n",
                            "\n",
                            "div.sk-estimator.fitted:hover .sk-estimator-doc-link.fitted:hover,\n",
                            ".sk-estimator-doc-link.fitted:hover,\n",
                            "div.sk-label-container:hover .sk-estimator-doc-link.fitted:hover,\n",
                            ".sk-estimator-doc-link.fitted:hover {\n",
                            "  /* fitted */\n",
                            "  background-color: var(--sklearn-color-fitted-level-3);\n",
                            "  color: var(--sklearn-color-background);\n",
                            "  text-decoration: none;\n",
                            "}\n",
                            "\n",
                            "/* Span, style for the box shown on hovering the info icon */\n",
                            ".sk-estimator-doc-link span {\n",
                            "  display: none;\n",
                            "  z-index: 9999;\n",
                            "  position: relative;\n",
                            "  font-weight: normal;\n",
                            "  right: .2ex;\n",
                            "  padding: .5ex;\n",
                            "  margin: .5ex;\n",
                            "  width: min-content;\n",
                            "  min-width: 20ex;\n",
                            "  max-width: 50ex;\n",
                            "  color: var(--sklearn-color-text);\n",
                            "  box-shadow: 2pt 2pt 4pt #999;\n",
                            "  /* unfitted */\n",
                            "  background: var(--sklearn-color-unfitted-level-0);\n",
                            "  border: .5pt solid var(--sklearn-color-unfitted-level-3);\n",
                            "}\n",
                            "\n",
                            ".sk-estimator-doc-link.fitted span {\n",
                            "  /* fitted */\n",
                            "  background: var(--sklearn-color-fitted-level-0);\n",
                            "  border: var(--sklearn-color-fitted-level-3);\n",
                            "}\n",
                            "\n",
                            ".sk-estimator-doc-link:hover span {\n",
                            "  display: block;\n",
                            "}\n",
                            "\n",
                            "/* \"?\"-specific style due to the `<a>` HTML tag */\n",
                            "\n",
                            "#sk-container-id-1 a.estimator_doc_link {\n",
                            "  float: right;\n",
                            "  font-size: 1rem;\n",
                            "  line-height: 1em;\n",
                            "  font-family: monospace;\n",
                            "  background-color: var(--sklearn-color-background);\n",
                            "  border-radius: 1rem;\n",
                            "  height: 1rem;\n",
                            "  width: 1rem;\n",
                            "  text-decoration: none;\n",
                            "  /* unfitted */\n",
                            "  color: var(--sklearn-color-unfitted-level-1);\n",
                            "  border: var(--sklearn-color-unfitted-level-1) 1pt solid;\n",
                            "}\n",
                            "\n",
                            "#sk-container-id-1 a.estimator_doc_link.fitted {\n",
                            "  /* fitted */\n",
                            "  border: var(--sklearn-color-fitted-level-1) 1pt solid;\n",
                            "  color: var(--sklearn-color-fitted-level-1);\n",
                            "}\n",
                            "\n",
                            "/* On hover */\n",
                            "#sk-container-id-1 a.estimator_doc_link:hover {\n",
                            "  /* unfitted */\n",
                            "  background-color: var(--sklearn-color-unfitted-level-3);\n",
                            "  color: var(--sklearn-color-background);\n",
                            "  text-decoration: none;\n",
                            "}\n",
                            "\n",
                            "#sk-container-id-1 a.estimator_doc_link.fitted:hover {\n",
                            "  /* fitted */\n",
                            "  background-color: var(--sklearn-color-fitted-level-3);\n",
                            "}\n",
                            "</style><div id=\"sk-container-id-1\" class=\"sk-top-container\"><div class=\"sk-text-repr-fallback\"><pre>KNeighborsClassifier(n_neighbors=6)</pre><b>In a Jupyter environment, please rerun this cell to show the HTML representation or trust the notebook. <br />On GitHub, the HTML representation is unable to render, please try loading this page with nbviewer.org.</b></div><div class=\"sk-container\" hidden><div class=\"sk-item\"><div class=\"sk-estimator fitted sk-toggleable\"><input class=\"sk-toggleable__control sk-hidden--visually\" id=\"sk-estimator-id-1\" type=\"checkbox\" checked><label for=\"sk-estimator-id-1\" class=\"sk-toggleable__label fitted sk-toggleable__label-arrow fitted\">&nbsp;&nbsp;KNeighborsClassifier<a class=\"sk-estimator-doc-link fitted\" rel=\"noreferrer\" target=\"_blank\" href=\"https://scikit-learn.org/1.5/modules/generated/sklearn.neighbors.KNeighborsClassifier.html\">?<span>Documentation for KNeighborsClassifier</span></a><span class=\"sk-estimator-doc-link fitted\">i<span>Fitted</span></span></label><div class=\"sk-toggleable__content fitted\"><pre>KNeighborsClassifier(n_neighbors=6)</pre></div> </div></div></div></div>"
                        ],
                        "text/plain": [
                            "KNeighborsClassifier(n_neighbors=6)"
                        ]
                    },
                    "execution_count": 3,
                    "metadata": {},
                    "output_type": "execute_result"
                }
            ],
            "source": [
                "# Import KNeighborsClassifier\n",
                "from sklearn.neighbors import KNeighborsClassifier \n",
                "\n",
                "y = churn_df[\"churn\"].values\n",
                "X = churn_df[[\"account_length\", \"customer_service_calls\"]].values\n",
                "\n",
                "# Create a KNN classifier with 6 neighbors\n",
                "knn = KNeighborsClassifier(n_neighbors=6)\n",
                "\n",
                "# Fit the classifier to the data\n",
                "knn.fit(X, y)\n"
            ]
        },
        {
            "cell_type": "markdown",
            "metadata": {},
            "source": [
                "### k-Nearest Neighbors: Predict\n",
                "\n",
                "Now you have fit a KNN classifier, you can use it to predict the label\n",
                "of new data points. All available data was used for training, however,\n",
                "fortunately, there are new observations available. These have been\n",
                "preloaded for you as `X_new`.\n",
                "\n",
                "The model `knn`, which you created and fit the data in the last\n",
                "exercise, has been preloaded for you. You will use your classifier to\n",
                "predict the labels of a set of new data points:\n",
                "\n",
                "    X_new = np.array([[30.0, 17.5],\n",
                "                      [107.0, 24.1],\n",
                "                      [213.0, 10.9]])\n",
                "\n",
                "**Instructions**\n",
                "\n",
                "- Create `y_pred` by predicting the target values of the unseen features\n",
                "  `X_new`.\n",
                "- Print the predicted labels for the set of predictions.\n",
                "\n",
                "**Answer**\n"
            ]
        },
        {
            "cell_type": "code",
            "execution_count": 4,
            "metadata": {},
            "outputs": [
                {
                    "name": "stdout",
                    "output_type": "stream",
                    "text": [
                        "Defaulting to user installation because normal site-packages is not writeable\n",
                        "Requirement already satisfied: numpy in /home/vscode/.local/lib/python3.12/site-packages (1.26.4)\n",
                        "Note: you may need to restart the kernel to use updated packages.\n"
                    ]
                }
            ],
            "source": [
                "pip install numpy"
            ]
        },
        {
            "cell_type": "code",
            "execution_count": 5,
            "metadata": {},
            "outputs": [],
            "source": [
                "# added/edited\n",
                "import numpy as np\n",
                "X_new = np.array([[30.0, 17.5], [107.0, 24.1], [213.0, 10.9]])"
            ]
        },
        {
            "cell_type": "code",
            "execution_count": 6,
            "metadata": {},
            "outputs": [
                {
                    "name": "stdout",
                    "output_type": "stream",
                    "text": [
                        "Predictions: [0 1 0]\n"
                    ]
                }
            ],
            "source": [
                "# Predict the labels for the X_new\n",
                "y_pred = knn.predict(X_new)\n",
                "\n",
                "# Print the predictions\n",
                "print(\"Predictions: {}\".format(y_pred)) \n"
            ]
        },
        {
            "cell_type": "markdown",
            "metadata": {},
            "source": [
                "### Train/test split + computing accuracy\n",
                "\n",
                "It's time to practice splitting your data into training and test sets\n",
                "with the `churn_df` dataset!\n",
                "\n",
                "NumPy arrays have been created for you containing the features as `X`\n",
                "and the target variable as `y`.\n",
                "\n",
                "**Instructions**\n",
                "\n",
                "- Import `train_test_split` from `sklearn.model_selection`.\n",
                "- Split `X` and `y` into training and test sets, setting `test_size`\n",
                "  equal to 20%, `random_state` to `42`, and ensuring the target label\n",
                "  proportions reflect that of the original dataset.\n",
                "- Fit the `knn` model to the training data.\n",
                "- Compute and print the model's accuracy for the test data.\n",
                "\n",
                "**Answer**\n"
            ]
        },
        {
            "cell_type": "code",
            "execution_count": 7,
            "metadata": {},
            "outputs": [
                {
                    "name": "stdout",
                    "output_type": "stream",
                    "text": [
                        "0.8545727136431784\n"
                    ]
                }
            ],
            "source": [
                "# Import the module\n",
                "from sklearn.model_selection import train_test_split\n",
                "\n",
                "X = churn_df.drop(\"churn\", axis=1).values\n",
                "y = churn_df[\"churn\"].values\n",
                "\n",
                "# Split into training and test sets\n",
                "X_train, X_test, y_train, y_test = train_test_split(X, y, test_size=0.2, random_state=42, stratify=y)\n",
                "knn = KNeighborsClassifier(n_neighbors=5)\n",
                "\n",
                "# Fit the classifier to the training data\n",
                "knn.fit(X_train, y_train)\n",
                "\n",
                "# Print the accuracy\n",
                "print(knn.score(X_test, y_test))\n"
            ]
        },
        {
            "cell_type": "markdown",
            "metadata": {},
            "source": [
                "### Overfitting and underfitting\n",
                "\n",
                "Interpreting model complexity is a great way to evaluate supervised\n",
                "learning performance. Your aim is to produce a model that can interpret\n",
                "the relationship between features and the target variable, as well as\n",
                "generalize well when exposed to new observations.\n",
                "\n",
                "The training and test sets have been created from the `churn_df` dataset\n",
                "and preloaded as `X_train`, `X_test`, `y_train`, and `y_test`.\n",
                "\n",
                "In addition, `KNeighborsClassifier` has been imported for you along with\n",
                "`numpy` as `np`.\n",
                "\n",
                "**Instructions**\n",
                "\n",
                "- Create `neighbors` as a `numpy` array of values from `1` up to and\n",
                "  including `12`.\n",
                "- Instantiate a KNN classifier, with the number of neighbors equal to\n",
                "  the `neighbor` iterator.\n",
                "- Fit the model to the training data.\n",
                "- Calculate accuracy scores for the training set and test set separately\n",
                "  using the `.score()` method, and assign the results to the index of\n",
                "  the `train_accuracies` and `test_accuracies` dictionaries,\n",
                "  respectively.\n",
                "\n",
                "**Answer**\n"
            ]
        },
        {
            "cell_type": "code",
            "execution_count": 8,
            "metadata": {},
            "outputs": [
                {
                    "name": "stdout",
                    "output_type": "stream",
                    "text": [
                        "[ 1  2  3  4  5  6  7  8  9 10 11 12] \n",
                        " {1: 1.0, 2: 0.8885971492873218, 3: 0.8994748687171793, 4: 0.8750937734433608, 5: 0.878469617404351, 6: 0.8660915228807202, 7: 0.8705926481620405, 8: 0.8615903975993998, 9: 0.86384096024006, 10: 0.858589647411853, 11: 0.8604651162790697, 12: 0.8574643660915229} \n",
                        " {1: 0.7856071964017991, 2: 0.8470764617691154, 3: 0.8320839580209896, 4: 0.856071964017991, 5: 0.8545727136431784, 6: 0.8590704647676162, 7: 0.8605697151424287, 8: 0.8620689655172413, 9: 0.863568215892054, 10: 0.8605697151424287, 11: 0.8605697151424287, 12: 0.8605697151424287}\n"
                    ]
                }
            ],
            "source": [
                "# Create neighbors\n",
                "neighbors = np.arange(1, 13)\n",
                "train_accuracies = {}\n",
                "test_accuracies = {}\n",
                "\n",
                "for neighbor in neighbors:\n",
                "  \n",
                "  \t# Set up a KNN Classifier\n",
                "\tknn = KNeighborsClassifier(n_neighbors=neighbor)\n",
                "  \n",
                "  \t# Fit the model\n",
                "\tknn.fit(X_train, y_train)\n",
                "  \n",
                "  \t# Compute accuracy\n",
                "\ttrain_accuracies[neighbor] = knn.score(X_train, y_train)\n",
                "\ttest_accuracies[neighbor] = knn.score(X_test, y_test)\n",
                "print(neighbors, '\\n', train_accuracies, '\\n', test_accuracies)\n"
            ]
        },
        {
            "cell_type": "markdown",
            "metadata": {},
            "source": [
                "### Visualizing model complexity\n",
                "\n",
                "Now you have calculated the accuracy of the KNN model on the training\n",
                "and test sets using various values of `n_neighbors`, you can create a\n",
                "model complexity curve to visualize how performance changes as the model\n",
                "becomes less complex!\n",
                "\n",
                "The variables `neighbors`, `train_accuracies`, and `test_accuracies`,\n",
                "which you generated in the previous exercise, have all been preloaded\n",
                "for you. You will plot the results to aid in finding the optimal number\n",
                "of neighbors for your model.\n",
                "\n",
                "**Instructions**\n",
                "\n",
                "- Add a title `\"KNN: Varying Number of Neighbors\"`.\n",
                "- Plot the `.values()` method of `train_accuracies` on the y-axis\n",
                "  against `neighbors` on the x-axis, with a label of\n",
                "  `\"Training Accuracy\"`.\n",
                "- Plot the `.values()` method of `test_accuracies` on the y-axis against\n",
                "  `neighbors` on the x-axis, with a label of `\"Testing Accuracy\"`.\n",
                "- Display the plot.\n",
                "\n",
                "**Answer**\n"
            ]
        },
        {
            "cell_type": "code",
            "execution_count": 9,
            "metadata": {},
            "outputs": [
                {
                    "name": "stdout",
                    "output_type": "stream",
                    "text": [
                        "Defaulting to user installation because normal site-packages is not writeable\n",
                        "Collecting matplotlib\n",
                        "  Downloading matplotlib-3.9.0-cp312-cp312-manylinux_2_17_aarch64.manylinux2014_aarch64.whl.metadata (11 kB)\n",
                        "Collecting contourpy>=1.0.1 (from matplotlib)\n",
                        "  Downloading contourpy-1.2.1-cp312-cp312-manylinux_2_17_aarch64.manylinux2014_aarch64.whl.metadata (5.8 kB)\n",
                        "Collecting cycler>=0.10 (from matplotlib)\n",
                        "  Downloading cycler-0.12.1-py3-none-any.whl.metadata (3.8 kB)\n",
                        "Collecting fonttools>=4.22.0 (from matplotlib)\n",
                        "  Downloading fonttools-4.53.0-cp312-cp312-manylinux_2_17_aarch64.manylinux2014_aarch64.whl.metadata (162 kB)\n",
                        "\u001b[2K     \u001b[90m━━━━━━━━━━━━━━━━━━━━━━━━━━━━━━━━━━━━━━━\u001b[0m \u001b[32m162.2/162.2 kB\u001b[0m \u001b[31m3.9 MB/s\u001b[0m eta \u001b[36m0:00:00\u001b[0ma \u001b[36m0:00:01\u001b[0m\n",
                        "\u001b[?25hCollecting kiwisolver>=1.3.1 (from matplotlib)\n",
                        "  Downloading kiwisolver-1.4.5-cp312-cp312-manylinux_2_17_aarch64.manylinux2014_aarch64.whl.metadata (6.4 kB)\n",
                        "Requirement already satisfied: numpy>=1.23 in /home/vscode/.local/lib/python3.12/site-packages (from matplotlib) (1.26.4)\n",
                        "Requirement already satisfied: packaging>=20.0 in /home/vscode/.local/lib/python3.12/site-packages (from matplotlib) (24.0)\n",
                        "Collecting pillow>=8 (from matplotlib)\n",
                        "  Downloading pillow-10.3.0-cp312-cp312-manylinux_2_28_aarch64.whl.metadata (9.2 kB)\n",
                        "Collecting pyparsing>=2.3.1 (from matplotlib)\n",
                        "  Downloading pyparsing-3.1.2-py3-none-any.whl.metadata (5.1 kB)\n",
                        "Requirement already satisfied: python-dateutil>=2.7 in /home/vscode/.local/lib/python3.12/site-packages (from matplotlib) (2.9.0.post0)\n",
                        "Requirement already satisfied: six>=1.5 in /home/vscode/.local/lib/python3.12/site-packages (from python-dateutil>=2.7->matplotlib) (1.16.0)\n",
                        "Downloading matplotlib-3.9.0-cp312-cp312-manylinux_2_17_aarch64.manylinux2014_aarch64.whl (8.2 MB)\n",
                        "\u001b[2K   \u001b[90m━━━━━━━━━━━━━━━━━━━━━━━━━━━━━━━━━━━━━━━━\u001b[0m \u001b[32m8.2/8.2 MB\u001b[0m \u001b[31m2.3 MB/s\u001b[0m eta \u001b[36m0:00:00\u001b[0m00:01\u001b[0m00:01\u001b[0m\n",
                        "\u001b[?25hDownloading contourpy-1.2.1-cp312-cp312-manylinux_2_17_aarch64.manylinux2014_aarch64.whl (285 kB)\n",
                        "\u001b[2K   \u001b[90m━━━━━━━━━━━━━━━━━━━━━━━━━━━━━━━━━━━━━━━━\u001b[0m \u001b[32m285.7/285.7 kB\u001b[0m \u001b[31m1.7 MB/s\u001b[0m eta \u001b[36m0:00:00\u001b[0ma \u001b[36m0:00:01\u001b[0m\n",
                        "\u001b[?25hDownloading cycler-0.12.1-py3-none-any.whl (8.3 kB)\n",
                        "Downloading fonttools-4.53.0-cp312-cp312-manylinux_2_17_aarch64.manylinux2014_aarch64.whl (4.8 MB)\n",
                        "\u001b[2K   \u001b[90m━━━━━━━━━━━━━━━━━━━━━━━━━━━━━━━━━━━━━━━━\u001b[0m \u001b[32m4.8/4.8 MB\u001b[0m \u001b[31m1.3 MB/s\u001b[0m eta \u001b[36m0:00:00\u001b[0m00:01\u001b[0m00:01\u001b[0m\n",
                        "\u001b[?25hDownloading kiwisolver-1.4.5-cp312-cp312-manylinux_2_17_aarch64.manylinux2014_aarch64.whl (1.5 MB)\n",
                        "\u001b[2K   \u001b[90m━━━━━━━━━━━━━━━━━━━━━━━━━━━━━━━━━━━━━━━━\u001b[0m \u001b[32m1.5/1.5 MB\u001b[0m \u001b[31m2.1 MB/s\u001b[0m eta \u001b[36m0:00:00\u001b[0ma \u001b[36m0:00:01\u001b[0m\n",
                        "\u001b[?25hDownloading pillow-10.3.0-cp312-cp312-manylinux_2_28_aarch64.whl (4.3 MB)\n",
                        "\u001b[2K   \u001b[90m━━━━━━━━━━━━━━━━━━━━━━━━━━━━━━━━━━━━━━━━\u001b[0m \u001b[32m4.3/4.3 MB\u001b[0m \u001b[31m2.0 MB/s\u001b[0m eta \u001b[36m0:00:00\u001b[0m00:01\u001b[0m00:01\u001b[0m\n",
                        "\u001b[?25hDownloading pyparsing-3.1.2-py3-none-any.whl (103 kB)\n",
                        "\u001b[2K   \u001b[90m━━━━━━━━━━━━━━━━━━━━━━━━━━━━━━━━━━━━━━━━\u001b[0m \u001b[32m103.2/103.2 kB\u001b[0m \u001b[31m2.3 MB/s\u001b[0m eta \u001b[36m0:00:00\u001b[0m \u001b[36m0:00:01\u001b[0m\n",
                        "\u001b[?25hInstalling collected packages: pyparsing, pillow, kiwisolver, fonttools, cycler, contourpy, matplotlib\n",
                        "Successfully installed contourpy-1.2.1 cycler-0.12.1 fonttools-4.53.0 kiwisolver-1.4.5 matplotlib-3.9.0 pillow-10.3.0 pyparsing-3.1.2\n",
                        "Note: you may need to restart the kernel to use updated packages.\n"
                    ]
                }
            ],
            "source": [
                "pip install matplotlib"
            ]
        },
        {
            "cell_type": "code",
            "execution_count": 10,
            "metadata": {},
            "outputs": [],
            "source": [
                "# added/edited\n",
                "import matplotlib.pyplot as plt"
            ]
        },
        {
            "cell_type": "code",
            "execution_count": 11,
            "metadata": {},
            "outputs": [
                {
                    "data": {
                        "image/png": "[encoded data removed]",
                        "text/plain": [
                            "<Figure size 640x480 with 1 Axes>"
                        ]
                    },
                    "metadata": {},
                    "output_type": "display_data"
                }
            ],
            "source": [
                "# Add a title\n",
                "plt.title(\"KNN: Varying Number of Neighbors\")\n",
                "\n",
                "# Plot training accuracies\n",
                "plt.plot(neighbors, train_accuracies.values(), label=\"Training Accuracy\")\n",
                "\n",
                "# Plot test accuracies\n",
                "plt.plot(neighbors, test_accuracies.values(), label=\"Testing Accuracy\")\n",
                "\n",
                "plt.legend()\n",
                "plt.xlabel(\"Number of Neighbors\")\n",
                "plt.ylabel(\"Accuracy\")\n",
                "\n",
                "# Display the plot\n",
                "plt.show()\n"
            ]
        },
        {
            "cell_type": "markdown",
            "metadata": {},
            "source": [
                "## Regression\n",
                "\n"
            ]
        },
        {
            "cell_type": "markdown",
            "metadata": {},
            "source": [
                "### Creating features\n",
                "\n",
                "In this chapter, you will work with a dataset called `sales_df`, which\n",
                "contains information on advertising campaign expenditure across\n",
                "different media types, and the number of dollars generated in sales for\n",
                "the respective campaign. The dataset has been preloaded for you. Here\n",
                "are the first two rows:\n",
                "\n",
                "         tv        radio      social_media    sales\n",
                "    1    13000.0   9237.76    2409.57         46677.90\n",
                "    2    41000.0   15886.45   2913.41         150177.83\n",
                "\n",
                "You will use the advertising expenditure as features to predict sales\n",
                "values, initially working with the `\"radio\"` column. However, before you\n",
                "make any predictions you will need to create the feature and target\n",
                "arrays, reshaping them to the correct format for scikit-learn.\n",
                "\n",
                "**Instructions**\n",
                "\n",
                "- Create `X`, an array of the values from the `sales_df` DataFrame's\n",
                "  `\"radio\"` column.\n",
                "- Create `y`, an array of the values from the `sales_df` DataFrame's\n",
                "  `\"sales\"` column.\n",
                "- Reshape `X` into a two-dimensional NumPy array.\n",
                "- Print the shape of `X` and `y`.\n",
                "\n",
                "**Answer**\n"
            ]
        },
        {
            "cell_type": "code",
            "execution_count": 12,
            "metadata": {},
            "outputs": [],
            "source": [
                "# added/edited\n",
                "sales_df = pd.read_csv(\"advertising_and_sales_clean.csv\")"
            ]
        },
        {
            "cell_type": "code",
            "execution_count": 13,
            "metadata": {},
            "outputs": [
                {
                    "name": "stdout",
                    "output_type": "stream",
                    "text": [
                        "(4546, 1) (4546,)\n"
                    ]
                }
            ],
            "source": [
                "import numpy as np\n",
                "\n",
                "# Create X from the radio column's values\n",
                "X = sales_df[\"radio\"].values\n",
                "\n",
                "# Create y from the sales column's values\n",
                "y = sales_df[\"sales\"].values\n",
                "\n",
                "# Reshape X\n",
                "X = X.reshape(-1, 1)\n",
                "\n",
                "# Check the shape of the features and targets\n",
                "print(X.shape, y.shape)\n"
            ]
        },
        {
            "cell_type": "markdown",
            "metadata": {},
            "source": [
                "### Building a linear regression model\n",
                "\n",
                "Now you have created your feature and target arrays, you will train a\n",
                "linear regression model on all feature and target values.\n",
                "\n",
                "As the goal is to assess the relationship between the feature and target\n",
                "values there is no need to split the data into training and test sets.\n",
                "\n",
                "`X` and `y` have been preloaded for you as follows:\n",
                "\n",
                "    y = sales_df[\"sales\"].values\n",
                "    X = sales_df[\"radio\"].values.reshape(-1, 1)\n",
                "\n",
                "**Instructions**\n",
                "\n",
                "- Import `LinearRegression`.\n",
                "- Instantiate a linear regression model.\n",
                "- Predict sales values using `X`, storing as `predictions`.\n",
                "\n",
                "**Answer**\n"
            ]
        },
        {
            "cell_type": "code",
            "execution_count": 14,
            "metadata": {},
            "outputs": [
                {
                    "name": "stdout",
                    "output_type": "stream",
                    "text": [
                        "[ 95491.17119147 117829.51038393 173423.38071499 291603.11444202\n",
                        " 111137.28167129]\n"
                    ]
                }
            ],
            "source": [
                "# Import LinearRegression\n",
                "from sklearn.linear_model import LinearRegression\n",
                "\n",
                "# Create the model\n",
                "reg = LinearRegression()\n",
                "\n",
                "# Fit the model to the data\n",
                "reg.fit(X, y)\n",
                "\n",
                "# Make predictions\n",
                "predictions = reg.predict(X)\n",
                "\n",
                "print(predictions[:5])\n"
            ]
        },
        {
            "cell_type": "markdown",
            "metadata": {},
            "source": [
                "### Visualizing a linear regression model\n",
                "\n",
                "Now you have built your linear regression model and trained it using all\n",
                "available observations, you can visualize how well the model fits the\n",
                "data. This allows you to interpret the relationship between `radio`\n",
                "advertising expenditure and `sales` values.\n",
                "\n",
                "The variables `X`, an array of `radio` values, `y`, an array of `sales`\n",
                "values, and `predictions`, an array of the model's predicted values for\n",
                "`y` given `X`, have all been preloaded for you from the previous\n",
                "exercise.\n",
                "\n",
                "**Instructions**\n",
                "\n",
                "- Import `matplotlib.pyplot` as `plt`.\n",
                "- Create a scatter plot visualizing `y` against `X`, with observations\n",
                "  in blue.\n",
                "- Draw a red line plot displaying the predictions against `X`.\n",
                "- Display the plot.\n",
                "\n",
                "**Answer**\n"
            ]
        },
        {
            "cell_type": "code",
            "execution_count": 15,
            "metadata": {},
            "outputs": [
                {
                    "data": {
                        "image/png": "[encoded data removed]",
                        "text/plain": [
                            "<Figure size 640x480 with 1 Axes>"
                        ]
                    },
                    "metadata": {},
                    "output_type": "display_data"
                }
            ],
            "source": [
                "# Import matplotlib.pyplot\n",
                "import matplotlib.pyplot as plt\n",
                "\n",
                "# Create scatter plot\n",
                "plt.scatter(X, y, color=\"blue\")\n",
                "\n",
                "# Create line plot\n",
                "plt.plot(X, predictions, color=\"red\")\n",
                "plt.xlabel(\"Radio Expenditure ($)\")\n",
                "plt.ylabel(\"Sales ($)\")\n",
                "\n",
                "# Display the plot\n",
                "plt.show()\n"
            ]
        },
        {
            "cell_type": "markdown",
            "metadata": {},
            "source": [
                "### Fit and predict for regression\n",
                "\n",
                "Now you have seen how linear regression works, your task is to create a\n",
                "multiple linear regression model using all of the features in the\n",
                "`sales_df` dataset, which has been preloaded for you. As a reminder,\n",
                "here are the first two rows:\n",
                "\n",
                "         tv        radio      social_media    sales\n",
                "    1    13000.0   9237.76    2409.57         46677.90\n",
                "    2    41000.0   15886.45   2913.41         150177.83\n",
                "\n",
                "You will then use this model to predict sales based on the values of the\n",
                "test features.\n",
                "\n",
                "`LinearRegression` and `train_test_split` have been preloaded for you\n",
                "from their respective modules.\n",
                "\n",
                "**Instructions**\n",
                "\n",
                "- Create `X`, an array containing values of all features in `sales_df`,\n",
                "  and `y`, containing all values from the `\"sales\"` column.\n",
                "- Instantiate a linear regression model.\n",
                "- Fit the model to the training data.\n",
                "- Create `y_pred`, making predictions for `sales` using the test\n",
                "  features.\n",
                "\n",
                "**Answer**\n"
            ]
        },
        {
            "cell_type": "code",
            "execution_count": 16,
            "metadata": {},
            "outputs": [],
            "source": [
                "# added/edited\n",
                "sales_df = sales_df.drop(\"influencer\", axis=1)\n"
            ]
        },
        {
            "cell_type": "code",
            "execution_count": 17,
            "metadata": {},
            "outputs": [
                {
                    "name": "stdout",
                    "output_type": "stream",
                    "text": [
                        "Predictions: [53176.66154234 70996.19873235], Actual Values: [55261.28 67574.9 ]\n"
                    ]
                }
            ],
            "source": [
                "# Create X and y arrays\n",
                "X = sales_df.drop(\"sales\", axis=1).values\n",
                "y = sales_df[\"sales\"].values\n",
                "\n",
                "X_train, X_test, y_train, y_test = train_test_split(X, y, test_size=0.3, random_state=42)\n",
                "\n",
                "# Instantiate the model\n",
                "reg = LinearRegression()\n",
                "\n",
                "# Fit the model to the data\n",
                "reg.fit(X_train, y_train)\n",
                "\n",
                "# Make predictions\n",
                "y_pred = reg.predict(X_test)\n",
                "print(\"Predictions: {}, Actual Values: {}\".format(y_pred[:2], y_test[:2]))\n"
            ]
        },
        {
            "cell_type": "markdown",
            "metadata": {},
            "source": [
                "### Regression performance\n",
                "\n",
                "Now you have fit a model, `reg`, using all features from `sales_df`, and\n",
                "made predictions of sales values, you can evaluate performance using\n",
                "some common regression metrics.\n",
                "\n",
                "The variables `X_train`, `X_test`, `y_train`, `y_test`, and `y_pred`,\n",
                "along with the fitted model, `reg`, all from the last exercise, have\n",
                "been preloaded for you.\n",
                "\n",
                "Your task is to find out how well the features can explain the variance\n",
                "in the target values, along with assessing the model's ability to make\n",
                "predictions on unseen data.\n",
                "\n",
                "**Instructions**\n",
                "\n",
                "- Import `mean_squared_error`.\n",
                "- Calculate the model's R-squared score by passing the test feature\n",
                "  values and the test target values to an appropriate method.\n",
                "- Calculate the model's root mean squared error using `y_test` and\n",
                "  `y_pred`.\n",
                "- Print `r_squared` and `rmse`.\n",
                "\n",
                "**Answer**\n"
            ]
        },
        {
            "cell_type": "code",
            "execution_count": 18,
            "metadata": {},
            "outputs": [
                {
                    "name": "stdout",
                    "output_type": "stream",
                    "text": [
                        "R^2: 0.9990152104759368\n",
                        "RMSE: 2944.433199600125\n"
                    ]
                },
                {
                    "name": "stderr",
                    "output_type": "stream",
                    "text": [
                        "/home/vscode/.local/lib/python3.12/site-packages/sklearn/metrics/_regression.py:492: FutureWarning: 'squared' is deprecated in version 1.4 and will be removed in 1.6. To calculate the root mean squared error, use the function'root_mean_squared_error'.\n",
                        "  warnings.warn(\n"
                    ]
                }
            ],
            "source": [
                "# Import mean_squared_error\n",
                "from sklearn.metrics import mean_squared_error\n",
                "\n",
                "# Compute R-squared\n",
                "r_squared = reg.score(X_test, y_test)\n",
                "\n",
                "# Compute RMSE\n",
                "rmse = mean_squared_error(y_test, y_pred, squared=False)\n",
                "\n",
                "# Print the metrics\n",
                "print(\"R^2: {}\".format(r_squared))\n",
                "print(\"RMSE: {}\".format(rmse))\n"
            ]
        },
        {
            "cell_type": "markdown",
            "metadata": {},
            "source": [
                "### Cross-validation for R-squared\n",
                "\n",
                "Cross-validation is a vital approach to evaluating a model. It maximizes\n",
                "the amount of data that is available to the model, as the model is not\n",
                "only trained but also tested on all of the available data.\n",
                "\n",
                "In this exercise, you will build a linear regression model, then use\n",
                "6-fold cross-validation to assess its accuracy for predicting sales\n",
                "using social media advertising expenditure. You will display the\n",
                "individual score for each of the six-folds.\n",
                "\n",
                "The `sales_df` dataset has been split into `y` for the target variable,\n",
                "and `X` for the features, and preloaded for you. `LinearRegression` has\n",
                "been imported from `sklearn.linear_model`.\n",
                "\n",
                "**Instructions**\n",
                "\n",
                "- Import `KFold` and `cross_val_score`.\n",
                "- Create `kf` by calling `KFold()`, setting the number of splits to six,\n",
                "  `shuffle` to `True`, and setting a seed of `5`.\n",
                "- Perform cross-validation using `reg` on `X` and `y`, passing `kf` to\n",
                "  `cv`.\n",
                "- Print the `cv_scores`.\n",
                "\n",
                "**Answer**\n"
            ]
        },
        {
            "cell_type": "code",
            "execution_count": 19,
            "metadata": {},
            "outputs": [],
            "source": [
                "# added/edited\n",
                "X = sales_df.drop([\"tv\", \"sales\"], axis=1).values\n",
                "y = sales_df[\"sales\"].values\n"
            ]
        },
        {
            "cell_type": "code",
            "execution_count": 20,
            "metadata": {},
            "outputs": [
                {
                    "name": "stdout",
                    "output_type": "stream",
                    "text": [
                        "[0.74451678 0.77241887 0.76842114 0.7410406  0.75170022 0.74406484]\n"
                    ]
                }
            ],
            "source": [
                "# Import the necessary modules\n",
                "from sklearn.model_selection import KFold, cross_val_score\n",
                "\n",
                "# Create a KFold object\n",
                "kf = KFold(n_splits=6, shuffle=True, random_state=5)\n",
                "\n",
                "reg = LinearRegression()\n",
                "\n",
                "# Compute 6-fold cross-validation scores\n",
                "cv_scores = cross_val_score(reg, X, y, cv=kf)\n",
                "\n",
                "# Print scores\n",
                "print(cv_scores)\n"
            ]
        },
        {
            "cell_type": "markdown",
            "metadata": {},
            "source": [
                "### Analyzing cross-validation metrics\n",
                "\n",
                "Now you have performed cross-validation, it's time to analyze the\n",
                "results.\n",
                "\n",
                "You will display the mean, standard deviation, and 95% confidence\n",
                "interval for `cv_results`, which has been preloaded for you from the\n",
                "previous exercise.\n",
                "\n",
                "`numpy` has been imported for you as `np`.\n",
                "\n",
                "**Instructions**\n",
                "\n",
                "- Calculate and print the mean of the results.\n",
                "- Calculate and print the standard deviation of `cv_results`.\n",
                "- Display the 95% confidence interval for your results using\n",
                "  `np.quantile()`.\n",
                "\n",
                "**Answer**\n"
            ]
        },
        {
            "cell_type": "code",
            "execution_count": 21,
            "metadata": {},
            "outputs": [],
            "source": [
                "# added/edited\n",
                "cv_results = cv_scores"
            ]
        },
        {
            "cell_type": "code",
            "execution_count": 22,
            "metadata": {},
            "outputs": [
                {
                    "name": "stdout",
                    "output_type": "stream",
                    "text": [
                        "0.7536937414361207\n",
                        "0.012305389070474732\n",
                        "[0.74141863 0.77191916]\n"
                    ]
                }
            ],
            "source": [
                "# Print the mean\n",
                "print(np.mean(cv_results))\n",
                "\n",
                "# Print the standard deviation\n",
                "print(np.std(cv_results))\n",
                "\n",
                "# Print the 95% confidence interval\n",
                "print(np.quantile(cv_results, [0.025, 0.975]))\n"
            ]
        },
        {
            "cell_type": "markdown",
            "metadata": {},
            "source": [
                "### Regularized regression: Ridge\n",
                "\n",
                "Ridge regression performs regularization by computing the *squared*\n",
                "values of the model parameters multiplied by alpha and adding them to\n",
                "the loss function.\n",
                "\n",
                "In this exercise, you will fit ridge regression models over a range of\n",
                "different alpha values, and print their \\\\R^2\\\\ scores. You will use all\n",
                "of the features in the `sales_df` dataset to predict `\"sales\"`. The data\n",
                "has been split into `X_train`, `X_test`, `y_train`, `y_test` for you.\n",
                "\n",
                "A variable called `alphas` has been provided as a list containing\n",
                "different alpha values, which you will loop through to generate scores.\n",
                "\n",
                "**Instructions**\n",
                "\n",
                "- Import `Ridge`.\n",
                "- Instantiate `Ridge`, setting alpha equal to `alpha`.\n",
                "- Fit the model to the training data.\n",
                "- Calculate the \\\\R^2\\\\ score for each iteration of `ridge`.\n",
                "\n",
                "**Answer**\n"
            ]
        },
        {
            "cell_type": "code",
            "execution_count": 23,
            "metadata": {},
            "outputs": [
                {
                    "name": "stdout",
                    "output_type": "stream",
                    "text": [
                        "[0.9990152104759369, 0.9990152104759373, 0.9990152104759419, 0.9990152104759871, 0.9990152104764387, 0.9990152104809561]\n"
                    ]
                }
            ],
            "source": [
                "# Import Ridge\n",
                "from sklearn.linear_model import Ridge\n",
                "alphas = [0.1, 1.0, 10.0, 100.0, 1000.0, 10000.0]\n",
                "ridge_scores = []\n",
                "for alpha in alphas:\n",
                "  \n",
                "  # Create a Ridge regression model\n",
                "  ridge = Ridge(alpha=alpha)\n",
                "  \n",
                "  # Fit the data\n",
                "  ridge.fit(X_train, y_train)\n",
                "  \n",
                "  # Obtain R-squared\n",
                "  score = ridge.score(X_test, y_test)\n",
                "  ridge_scores.append(score)\n",
                "print(ridge_scores)\n"
            ]
        },
        {
            "cell_type": "markdown",
            "metadata": {},
            "source": [
                "### Lasso regression for feature importance\n",
                "\n",
                "In the video, you saw how lasso regression can be used to identify\n",
                "important features in a dataset.\n",
                "\n",
                "In this exercise, you will fit a lasso regression model to the\n",
                "`sales_df` data and plot the model's coefficients.\n",
                "\n",
                "The feature and target variable arrays have been pre-loaded as `X` and\n",
                "`y`, along with `sales_columns`, which contains the dataset's feature\n",
                "names.\n",
                "\n",
                "**Instructions**\n",
                "\n",
                "- Import `Lasso` from `sklearn.linear_model`.\n",
                "- Instantiate a Lasso regressor with an alpha of `0.3`.\n",
                "- Fit the model to the data.\n",
                "- Compute the model's coefficients, storing as `lasso_coef`.\n",
                "\n",
                "**Answer**\n"
            ]
        },
        {
            "cell_type": "code",
            "execution_count": 24,
            "metadata": {},
            "outputs": [],
            "source": [
                "# added/edited\n",
                "sales_columns = sales_df.drop(\"sales\", axis=1).columns\n",
                "X = sales_df.drop(\"sales\", axis=1).values\n",
                "y = sales_df[\"sales\"].values\n"
            ]
        },
        {
            "cell_type": "code",
            "execution_count": 25,
            "metadata": {},
            "outputs": [
                {
                    "name": "stdout",
                    "output_type": "stream",
                    "text": [
                        "[ 3.56256962 -0.00397035  0.00496385]\n"
                    ]
                },
                {
                    "data": {
                        "image/png": "[encoded data removed]",
                        "text/plain": [
                            "<Figure size 640x480 with 1 Axes>"
                        ]
                    },
                    "metadata": {},
                    "output_type": "display_data"
                }
            ],
            "source": [
                "# Import Lasso\n",
                "from sklearn.linear_model import Lasso\n",
                "\n",
                "# Instantiate a lasso regression model\n",
                "lasso = Lasso(alpha=0.3)\n",
                "\n",
                "# Fit the model to the data\n",
                "lasso.fit(X, y)\n",
                "\n",
                "# Compute and print the coefficients\n",
                "lasso_coef = lasso.coef_\n",
                "print(lasso_coef)\n",
                "plt.bar(sales_columns, lasso_coef)\n",
                "plt.xticks(rotation=45)\n",
                "plt.show()\n"
            ]
        },
        {
            "cell_type": "markdown",
            "metadata": {},
            "source": [
                "## Fine-Tuning Your Model\n",
                "\n"
            ]
        },
        {
            "cell_type": "markdown",
            "metadata": {},
            "source": [
                "### Assessing a diabetes prediction classifier\n",
                "\n",
                "In this chapter you'll work with the `diabetes_df` dataset introduced\n",
                "previously.\n",
                "\n",
                "The goal is to predict whether or not each individual is likely to have\n",
                "diabetes based on the features body mass index (BMI) and age (in years).\n",
                "Therefore, it is a binary classification problem. A target value of `0`\n",
                "indicates that the individual does *not* have diabetes, while a value of\n",
                "`1` indicates that the individual *does* have diabetes.\n",
                "\n",
                "`diabetes_df` has been preloaded for you as a pandas DataFrame and split\n",
                "into `X_train`, `X_test`, `y_train`, and `y_test`. In addition, a\n",
                "`KNeighborsClassifier()` has been instantiated and assigned to `knn`.\n",
                "\n",
                "You will fit the model, make predictions on the test set, then produce a\n",
                "confusion matrix and classification report.\n",
                "\n",
                "**Instructions**\n",
                "\n",
                "- Import `confusion_matrix` and `classification_report`.\n",
                "- Fit the model to the training data.\n",
                "- Predict the labels of the test set, storing the results as `y_pred`.\n",
                "- Compute and print the confusion matrix and classification report for\n",
                "  the test labels versus the predicted labels.\n",
                "\n",
                "**Answer**\n"
            ]
        },
        {
            "cell_type": "code",
            "execution_count": 26,
            "metadata": {},
            "outputs": [],
            "source": [
                "# added/edited\n",
                "diabetes_df =  pd.read_csv(\"diabetes_clean.csv\")\n",
                "X = diabetes_df[[\"bmi\", \"age\"]].values\n",
                "y = diabetes_df[\"diabetes\"].values\n",
                "X_train, X_test, y_train, y_test = train_test_split(X, y, test_size=0.3, random_state=42, stratify=y)"
            ]
        },
        {
            "cell_type": "code",
            "execution_count": 27,
            "metadata": {},
            "outputs": [
                {
                    "name": "stdout",
                    "output_type": "stream",
                    "text": [
                        "[[134  16]\n",
                        " [ 61  20]]\n",
                        "              precision    recall  f1-score   support\n",
                        "\n",
                        "           0       0.69      0.89      0.78       150\n",
                        "           1       0.56      0.25      0.34        81\n",
                        "\n",
                        "    accuracy                           0.67       231\n",
                        "   macro avg       0.62      0.57      0.56       231\n",
                        "weighted avg       0.64      0.67      0.62       231\n",
                        "\n"
                    ]
                }
            ],
            "source": [
                "# Import confusion matrix\n",
                "from sklearn.metrics import confusion_matrix, classification_report\n",
                "\n",
                "knn = KNeighborsClassifier(n_neighbors=6)\n",
                "\n",
                "# Fit the model to the training data\n",
                "knn.fit(X_train, y_train)\n",
                "\n",
                "# Predict the labels of the test data: y_pred\n",
                "y_pred = knn.predict(X_test)\n",
                "\n",
                "# Generate the confusion matrix and classification report\n",
                "print(confusion_matrix(y_test, y_pred))\n",
                "print(classification_report(y_test, y_pred))\n"
            ]
        },
        {
            "cell_type": "markdown",
            "metadata": {},
            "source": [
                "### Building a logistic regression model\n",
                "\n",
                "In this exercise, you will build a logistic regression model using all\n",
                "features in the `diabetes_df` dataset. The model will be used to predict\n",
                "the probability of individuals in the test set having a diabetes\n",
                "diagnosis.\n",
                "\n",
                "The `diabetes_df` dataset has been split into `X_train`, `X_test`,\n",
                "`y_train`, and `y_test`, and preloaded for you.\n",
                "\n",
                "**Instructions**\n",
                "\n",
                "- Import `LogisticRegression`.\n",
                "- Instantiate a logistic regression model, `logreg`.\n",
                "- Fit the model to the training data.\n",
                "- Predict the probabilities of each individual in the test set having a\n",
                "  diabetes diagnosis, storing the array of positive probabilities as\n",
                "  `y_pred_probs`.\n",
                "\n",
                "**Answer**\n"
            ]
        },
        {
            "cell_type": "code",
            "execution_count": 28,
            "metadata": {},
            "outputs": [],
            "source": [
                "# added/edited\n",
                "diabetes_df =  pd.read_csv(\"diabetes_clean.csv\")\n",
                "X = diabetes_df.drop(\"diabetes\", axis=1).values\n",
                "y = diabetes_df[\"diabetes\"].values\n",
                "X_train, X_test, y_train, y_test = train_test_split(X, y, test_size=0.3, random_state=42, stratify=y)"
            ]
        },
        {
            "cell_type": "code",
            "execution_count": 29,
            "metadata": {},
            "outputs": [
                {
                    "name": "stdout",
                    "output_type": "stream",
                    "text": [
                        "[0.23040852 0.28910622 0.73169402 0.63125223 0.45115246 0.07690538\n",
                        " 0.73115029 0.12432888 0.04388881 0.34826855]\n"
                    ]
                },
                {
                    "name": "stderr",
                    "output_type": "stream",
                    "text": [
                        "/home/vscode/.local/lib/python3.12/site-packages/sklearn/linear_model/_logistic.py:469: ConvergenceWarning: lbfgs failed to converge (status=1):\n",
                        "STOP: TOTAL NO. of ITERATIONS REACHED LIMIT.\n",
                        "\n",
                        "Increase the number of iterations (max_iter) or scale the data as shown in:\n",
                        "    https://scikit-learn.org/stable/modules/preprocessing.html\n",
                        "Please also refer to the documentation for alternative solver options:\n",
                        "    https://scikit-learn.org/stable/modules/linear_model.html#logistic-regression\n",
                        "  n_iter_i = _check_optimize_result(\n"
                    ]
                }
            ],
            "source": [
                "# Import LogisticRegression\n",
                "from sklearn.linear_model import LogisticRegression\n",
                "\n",
                "# Instantiate the model\n",
                "logreg = LogisticRegression()\n",
                "\n",
                "# Fit the model\n",
                "logreg.fit(X_train, y_train)\n",
                "\n",
                "# Predict probabilities\n",
                "y_pred_probs = logreg.predict_proba(X_test)[:, 1]\n",
                "\n",
                "print(y_pred_probs[:10])\n"
            ]
        },
        {
            "cell_type": "markdown",
            "metadata": {},
            "source": [
                "### The ROC curve\n",
                "\n",
                "Now you have built a logistic regression model for predicting diabetes\n",
                "status, you can plot the ROC curve to visualize how the true positive\n",
                "rate and false positive rate vary as the decision threshold changes.\n",
                "\n",
                "The test labels, `y_test`, and the predicted probabilities of the test\n",
                "features belonging to the positive class, `y_pred_probs`, have been\n",
                "preloaded for you, along with `matplotlib.pyplot` as `plt`.\n",
                "\n",
                "You will create a ROC curve and then interpret the results.\n",
                "\n",
                "**Instructions**\n",
                "\n",
                "- Import `roc_curve`.\n",
                "- Calculate the ROC curve values, using `y_test` and `y_pred_probs`, and\n",
                "  unpacking the results into `fpr`, `tpr`, and `thresholds`.\n",
                "- Plot true positive rate against false positive rate.\n",
                "\n",
                "**Answer**\n"
            ]
        },
        {
            "cell_type": "code",
            "execution_count": 30,
            "metadata": {},
            "outputs": [
                {
                    "data": {
                        "image/png": "[encoded data removed]",
                        "text/plain": [
                            "<Figure size 640x480 with 1 Axes>"
                        ]
                    },
                    "metadata": {},
                    "output_type": "display_data"
                }
            ],
            "source": [
                "# Import roc_curve\n",
                "from sklearn.metrics import roc_curve\n",
                "\n",
                "# Generate ROC curve values: fpr, tpr, thresholds\n",
                "fpr, tpr, thresholds = roc_curve(y_test, y_pred_probs)\n",
                "\n",
                "plt.plot([0, 1], [0, 1], 'k--')\n",
                "\n",
                "# Plot tpr against fpr\n",
                "plt.plot(fpr, tpr)\n",
                "plt.xlabel('False Positive Rate')\n",
                "plt.ylabel('True Positive Rate')\n",
                "plt.title('ROC Curve for Diabetes Prediction')\n",
                "plt.show()\n"
            ]
        },
        {
            "cell_type": "markdown",
            "metadata": {},
            "source": [
                "### ROC AUC\n",
                "\n",
                "The ROC curve you plotted in the last exercise looked promising.\n",
                "\n",
                "Now you will compute the area under the ROC curve, along with the other\n",
                "classification metrics you have used previously.\n",
                "\n",
                "The `confusion_matrix` and `classification_report` functions have been\n",
                "preloaded for you, along with the `logreg` model you previously built,\n",
                "plus `X_train`, `X_test`, `y_train`, `y_test`. Also, the model's\n",
                "predicted test set labels are stored as `y_pred`, and probabilities of\n",
                "test set observations belonging to the positive class stored as\n",
                "`y_pred_probs`.\n",
                "\n",
                "A `knn` model has also been created and the performance metrics printed\n",
                "in the console, so you can compare the `roc_auc_score`,\n",
                "`confusion_matrix`, and `classification_report` between the two models.\n",
                "\n",
                "**Instructions**\n",
                "\n",
                "- Import `roc_auc_score`.\n",
                "- Calculate and print the ROC AUC score, passing the test labels and the\n",
                "  predicted positive class probabilities.\n",
                "- Calculate and print the confusion matrix.\n",
                "- Call `classification_report()`.\n",
                "\n",
                "**Answer**\n"
            ]
        },
        {
            "cell_type": "code",
            "execution_count": 31,
            "metadata": {},
            "outputs": [
                {
                    "name": "stdout",
                    "output_type": "stream",
                    "text": [
                        "0.8360493827160493\n",
                        "[[134  16]\n",
                        " [ 61  20]]\n",
                        "              precision    recall  f1-score   support\n",
                        "\n",
                        "           0       0.69      0.89      0.78       150\n",
                        "           1       0.56      0.25      0.34        81\n",
                        "\n",
                        "    accuracy                           0.67       231\n",
                        "   macro avg       0.62      0.57      0.56       231\n",
                        "weighted avg       0.64      0.67      0.62       231\n",
                        "\n"
                    ]
                }
            ],
            "source": [
                "# Import roc_auc_score\n",
                "from sklearn.metrics import roc_auc_score\n",
                "\n",
                "# Calculate roc_auc_score\n",
                "print(roc_auc_score(y_test, y_pred_probs))\n",
                "\n",
                "# Calculate the confusion matrix\n",
                "print(confusion_matrix(y_test, y_pred))\n",
                "\n",
                "# Calculate the classification report\n",
                "print(classification_report(y_test, y_pred))\n"
            ]
        },
        {
            "cell_type": "markdown",
            "metadata": {},
            "source": [
                "### Hyperparameter tuning with GridSearchCV\n",
                "\n",
                "Now you have seen how to perform grid search hyperparameter tuning, you\n",
                "are going to build a lasso regression model with optimal hyperparameters\n",
                "to predict blood glucose levels using the features in the `diabetes_df`\n",
                "dataset.\n",
                "\n",
                "`X_train`, `X_test`, `y_train`, and `y_test` have been preloaded for\n",
                "you. A `KFold()` object has been created and stored for you as `kf`,\n",
                "along with a lasso regression model as `lasso`.\n",
                "\n",
                "**Instructions**\n",
                "\n",
                "- Import `GridSearchCV`.\n",
                "- Set up a parameter grid for `\"alpha\"`, using `np.linspace()` to create\n",
                "  20 evenly spaced values ranging from `0.00001` to `1`.\n",
                "- Call `GridSearchCV()`, passing `lasso`, the parameter grid, and\n",
                "  setting `cv` equal to `kf`.\n",
                "- Fit the grid search object to the training data to perform a\n",
                "  cross-validated grid search.\n",
                "\n",
                "**Answer**\n"
            ]
        },
        {
            "cell_type": "code",
            "execution_count": 32,
            "metadata": {},
            "outputs": [
                {
                    "data": {
                        "text/html": [
                            "<div>\n",
                            "<style scoped>\n",
                            "    .dataframe tbody tr th:only-of-type {\n",
                            "        vertical-align: middle;\n",
                            "    }\n",
                            "\n",
                            "    .dataframe tbody tr th {\n",
                            "        vertical-align: top;\n",
                            "    }\n",
                            "\n",
                            "    .dataframe thead th {\n",
                            "        text-align: right;\n",
                            "    }\n",
                            "</style>\n",
                            "<table border=\"1\" class=\"dataframe\">\n",
                            "  <thead>\n",
                            "    <tr style=\"text-align: right;\">\n",
                            "      <th></th>\n",
                            "      <th>pregnancies</th>\n",
                            "      <th>glucose</th>\n",
                            "      <th>diastolic</th>\n",
                            "      <th>triceps</th>\n",
                            "      <th>insulin</th>\n",
                            "      <th>bmi</th>\n",
                            "      <th>dpf</th>\n",
                            "      <th>age</th>\n",
                            "      <th>diabetes</th>\n",
                            "    </tr>\n",
                            "  </thead>\n",
                            "  <tbody>\n",
                            "    <tr>\n",
                            "      <th>0</th>\n",
                            "      <td>6</td>\n",
                            "      <td>148</td>\n",
                            "      <td>72</td>\n",
                            "      <td>35</td>\n",
                            "      <td>0</td>\n",
                            "      <td>33.6</td>\n",
                            "      <td>0.627</td>\n",
                            "      <td>50</td>\n",
                            "      <td>1</td>\n",
                            "    </tr>\n",
                            "    <tr>\n",
                            "      <th>1</th>\n",
                            "      <td>1</td>\n",
                            "      <td>85</td>\n",
                            "      <td>66</td>\n",
                            "      <td>29</td>\n",
                            "      <td>0</td>\n",
                            "      <td>26.6</td>\n",
                            "      <td>0.351</td>\n",
                            "      <td>31</td>\n",
                            "      <td>0</td>\n",
                            "    </tr>\n",
                            "    <tr>\n",
                            "      <th>2</th>\n",
                            "      <td>8</td>\n",
                            "      <td>183</td>\n",
                            "      <td>64</td>\n",
                            "      <td>0</td>\n",
                            "      <td>0</td>\n",
                            "      <td>23.3</td>\n",
                            "      <td>0.672</td>\n",
                            "      <td>32</td>\n",
                            "      <td>1</td>\n",
                            "    </tr>\n",
                            "    <tr>\n",
                            "      <th>3</th>\n",
                            "      <td>1</td>\n",
                            "      <td>89</td>\n",
                            "      <td>66</td>\n",
                            "      <td>23</td>\n",
                            "      <td>94</td>\n",
                            "      <td>28.1</td>\n",
                            "      <td>0.167</td>\n",
                            "      <td>21</td>\n",
                            "      <td>0</td>\n",
                            "    </tr>\n",
                            "    <tr>\n",
                            "      <th>4</th>\n",
                            "      <td>0</td>\n",
                            "      <td>137</td>\n",
                            "      <td>40</td>\n",
                            "      <td>35</td>\n",
                            "      <td>168</td>\n",
                            "      <td>43.1</td>\n",
                            "      <td>2.288</td>\n",
                            "      <td>33</td>\n",
                            "      <td>1</td>\n",
                            "    </tr>\n",
                            "    <tr>\n",
                            "      <th>...</th>\n",
                            "      <td>...</td>\n",
                            "      <td>...</td>\n",
                            "      <td>...</td>\n",
                            "      <td>...</td>\n",
                            "      <td>...</td>\n",
                            "      <td>...</td>\n",
                            "      <td>...</td>\n",
                            "      <td>...</td>\n",
                            "      <td>...</td>\n",
                            "    </tr>\n",
                            "    <tr>\n",
                            "      <th>763</th>\n",
                            "      <td>10</td>\n",
                            "      <td>101</td>\n",
                            "      <td>76</td>\n",
                            "      <td>48</td>\n",
                            "      <td>180</td>\n",
                            "      <td>32.9</td>\n",
                            "      <td>0.171</td>\n",
                            "      <td>63</td>\n",
                            "      <td>0</td>\n",
                            "    </tr>\n",
                            "    <tr>\n",
                            "      <th>764</th>\n",
                            "      <td>2</td>\n",
                            "      <td>122</td>\n",
                            "      <td>70</td>\n",
                            "      <td>27</td>\n",
                            "      <td>0</td>\n",
                            "      <td>36.8</td>\n",
                            "      <td>0.340</td>\n",
                            "      <td>27</td>\n",
                            "      <td>0</td>\n",
                            "    </tr>\n",
                            "    <tr>\n",
                            "      <th>765</th>\n",
                            "      <td>5</td>\n",
                            "      <td>121</td>\n",
                            "      <td>72</td>\n",
                            "      <td>23</td>\n",
                            "      <td>112</td>\n",
                            "      <td>26.2</td>\n",
                            "      <td>0.245</td>\n",
                            "      <td>30</td>\n",
                            "      <td>0</td>\n",
                            "    </tr>\n",
                            "    <tr>\n",
                            "      <th>766</th>\n",
                            "      <td>1</td>\n",
                            "      <td>126</td>\n",
                            "      <td>60</td>\n",
                            "      <td>0</td>\n",
                            "      <td>0</td>\n",
                            "      <td>30.1</td>\n",
                            "      <td>0.349</td>\n",
                            "      <td>47</td>\n",
                            "      <td>1</td>\n",
                            "    </tr>\n",
                            "    <tr>\n",
                            "      <th>767</th>\n",
                            "      <td>1</td>\n",
                            "      <td>93</td>\n",
                            "      <td>70</td>\n",
                            "      <td>31</td>\n",
                            "      <td>0</td>\n",
                            "      <td>30.4</td>\n",
                            "      <td>0.315</td>\n",
                            "      <td>23</td>\n",
                            "      <td>0</td>\n",
                            "    </tr>\n",
                            "  </tbody>\n",
                            "</table>\n",
                            "<p>768 rows × 9 columns</p>\n",
                            "</div>"
                        ],
                        "text/plain": [
                            "     pregnancies  glucose  diastolic  triceps  insulin   bmi    dpf  age  \\\n",
                            "0              6      148         72       35        0  33.6  0.627   50   \n",
                            "1              1       85         66       29        0  26.6  0.351   31   \n",
                            "2              8      183         64        0        0  23.3  0.672   32   \n",
                            "3              1       89         66       23       94  28.1  0.167   21   \n",
                            "4              0      137         40       35      168  43.1  2.288   33   \n",
                            "..           ...      ...        ...      ...      ...   ...    ...  ...   \n",
                            "763           10      101         76       48      180  32.9  0.171   63   \n",
                            "764            2      122         70       27        0  36.8  0.340   27   \n",
                            "765            5      121         72       23      112  26.2  0.245   30   \n",
                            "766            1      126         60        0        0  30.1  0.349   47   \n",
                            "767            1       93         70       31        0  30.4  0.315   23   \n",
                            "\n",
                            "     diabetes  \n",
                            "0           1  \n",
                            "1           0  \n",
                            "2           1  \n",
                            "3           0  \n",
                            "4           1  \n",
                            "..        ...  \n",
                            "763         0  \n",
                            "764         0  \n",
                            "765         0  \n",
                            "766         1  \n",
                            "767         0  \n",
                            "\n",
                            "[768 rows x 9 columns]"
                        ]
                    },
                    "execution_count": 32,
                    "metadata": {},
                    "output_type": "execute_result"
                }
            ],
            "source": [
                "diabetes_df"
            ]
        },
        {
            "cell_type": "code",
            "execution_count": 33,
            "metadata": {},
            "outputs": [],
            "source": [
                "# added/edited\n",
                "X = diabetes_df.drop(\"glucose\", axis=1).values\n",
                "y = diabetes_df[\"glucose\"].values\n",
                "X_train, X_test, y_train, y_test = train_test_split(X, y, test_size=0.2, random_state=42)"
            ]
        },
        {
            "cell_type": "code",
            "execution_count": 34,
            "metadata": {},
            "outputs": [
                {
                    "name": "stdout",
                    "output_type": "stream",
                    "text": [
                        "Tuned lasso paramaters: {'alpha': 0.05264105263157895}\n",
                        "Tuned lasso score: 0.3265989419658603\n"
                    ]
                }
            ],
            "source": [
                "# Import GridSearchCV\n",
                "from sklearn.model_selection import GridSearchCV\n",
                "\n",
                "# Set up the parameter grid\n",
                "param_grid = {\"alpha\": np.linspace(0.00001, 1, 20)}\n",
                "\n",
                "# Instantiate lasso_cv\n",
                "lasso_cv = GridSearchCV(lasso, param_grid, cv=kf)\n",
                "\n",
                "# Fit to the training data\n",
                "lasso_cv.fit(X_train, y_train)\n",
                "print(\"Tuned lasso paramaters: {}\".format(lasso_cv.best_params_))\n",
                "print(\"Tuned lasso score: {}\".format(lasso_cv.best_score_))\n"
            ]
        },
        {
            "cell_type": "markdown",
            "metadata": {},
            "source": [
                "### Hyperparameter tuning with RandomizedSearchCV\n",
                "\n",
                "As you saw, `GridSearchCV` can be computationally expensive, especially\n",
                "if you are searching over a large hyperparameter space. In this case,\n",
                "you can use `RandomizedSearchCV`, which tests a fixed number of\n",
                "hyperparameter settings from specified probability distributions.\n",
                "\n",
                "Training and test sets from `diabetes_df` have been pre-loaded for you\n",
                "as `X_train`. `X_test`, `y_train`, and `y_test`, where the target is\n",
                "`\"diabetes\"`. A logistic regression model has been created and stored as\n",
                "`logreg`, as well as a `KFold` variable stored as `kf`.\n",
                "\n",
                "You will define a range of hyperparameters and use `RandomizedSearchCV`,\n",
                "which has been imported from `sklearn.model_selection`, to look for\n",
                "optimal hyperparameters from these options.\n",
                "\n",
                "**Instructions**\n",
                "\n",
                "- Create `params`, adding `\"l1\"` and `\"l2\"` as `penalty` values, setting\n",
                "  `C` to a range of `50` float values between `0.1` and `1.0`, and\n",
                "  `class_weight` to either `\"balanced\"` or a dictionary containing\n",
                "  `0:0.8, 1:0.2`.\n",
                "- Create the Randomized Search CV object, passing the model and the\n",
                "  parameters, and setting `cv` equal to `kf`.\n",
                "- Fit `logreg_cv` to the training data.\n",
                "- Print the model's best parameters and accuracy score.\n",
                "\n",
                "**Answer**\n"
            ]
        },
        {
            "cell_type": "code",
            "execution_count": 35,
            "metadata": {},
            "outputs": [],
            "source": [
                "# added/edited\n",
                "from sklearn.model_selection import RandomizedSearchCV\n",
                "X = diabetes_df.drop(\"diabetes\", axis=1).values\n",
                "y = diabetes_df[\"diabetes\"].values\n",
                "X_train, X_test, y_train, y_test = train_test_split(X, y, test_size=0.2, random_state=42)"
            ]
        },
        {
            "cell_type": "code",
            "execution_count": 36,
            "metadata": {},
            "outputs": [
                {
                    "name": "stdout",
                    "output_type": "stream",
                    "text": [
                        "Tuned Logistic Regression Parameters: {'tol': 0.02050612244897959, 'penalty': 'l2', 'class_weight': 'balanced', 'C': 0.48571428571428577}\n",
                        "Tuned Logistic Regression Best Accuracy Score: 0.7345167840599024\n"
                    ]
                },
                {
                    "name": "stderr",
                    "output_type": "stream",
                    "text": [
                        "/home/vscode/.local/lib/python3.12/site-packages/sklearn/linear_model/_logistic.py:469: ConvergenceWarning: lbfgs failed to converge (status=1):\n",
                        "STOP: TOTAL NO. of ITERATIONS REACHED LIMIT.\n",
                        "\n",
                        "Increase the number of iterations (max_iter) or scale the data as shown in:\n",
                        "    https://scikit-learn.org/stable/modules/preprocessing.html\n",
                        "Please also refer to the documentation for alternative solver options:\n",
                        "    https://scikit-learn.org/stable/modules/linear_model.html#logistic-regression\n",
                        "  n_iter_i = _check_optimize_result(\n",
                        "/home/vscode/.local/lib/python3.12/site-packages/sklearn/linear_model/_logistic.py:469: ConvergenceWarning: lbfgs failed to converge (status=1):\n",
                        "STOP: TOTAL NO. of ITERATIONS REACHED LIMIT.\n",
                        "\n",
                        "Increase the number of iterations (max_iter) or scale the data as shown in:\n",
                        "    https://scikit-learn.org/stable/modules/preprocessing.html\n",
                        "Please also refer to the documentation for alternative solver options:\n",
                        "    https://scikit-learn.org/stable/modules/linear_model.html#logistic-regression\n",
                        "  n_iter_i = _check_optimize_result(\n",
                        "/home/vscode/.local/lib/python3.12/site-packages/sklearn/linear_model/_logistic.py:469: ConvergenceWarning: lbfgs failed to converge (status=1):\n",
                        "STOP: TOTAL NO. of ITERATIONS REACHED LIMIT.\n",
                        "\n",
                        "Increase the number of iterations (max_iter) or scale the data as shown in:\n",
                        "    https://scikit-learn.org/stable/modules/preprocessing.html\n",
                        "Please also refer to the documentation for alternative solver options:\n",
                        "    https://scikit-learn.org/stable/modules/linear_model.html#logistic-regression\n",
                        "  n_iter_i = _check_optimize_result(\n",
                        "/home/vscode/.local/lib/python3.12/site-packages/sklearn/linear_model/_logistic.py:469: ConvergenceWarning: lbfgs failed to converge (status=1):\n",
                        "STOP: TOTAL NO. of ITERATIONS REACHED LIMIT.\n",
                        "\n",
                        "Increase the number of iterations (max_iter) or scale the data as shown in:\n",
                        "    https://scikit-learn.org/stable/modules/preprocessing.html\n",
                        "Please also refer to the documentation for alternative solver options:\n",
                        "    https://scikit-learn.org/stable/modules/linear_model.html#logistic-regression\n",
                        "  n_iter_i = _check_optimize_result(\n",
                        "/home/vscode/.local/lib/python3.12/site-packages/sklearn/linear_model/_logistic.py:469: ConvergenceWarning: lbfgs failed to converge (status=1):\n",
                        "STOP: TOTAL NO. of ITERATIONS REACHED LIMIT.\n",
                        "\n",
                        "Increase the number of iterations (max_iter) or scale the data as shown in:\n",
                        "    https://scikit-learn.org/stable/modules/preprocessing.html\n",
                        "Please also refer to the documentation for alternative solver options:\n",
                        "    https://scikit-learn.org/stable/modules/linear_model.html#logistic-regression\n",
                        "  n_iter_i = _check_optimize_result(\n",
                        "/home/vscode/.local/lib/python3.12/site-packages/sklearn/linear_model/_logistic.py:469: ConvergenceWarning: lbfgs failed to converge (status=1):\n",
                        "STOP: TOTAL NO. of ITERATIONS REACHED LIMIT.\n",
                        "\n",
                        "Increase the number of iterations (max_iter) or scale the data as shown in:\n",
                        "    https://scikit-learn.org/stable/modules/preprocessing.html\n",
                        "Please also refer to the documentation for alternative solver options:\n",
                        "    https://scikit-learn.org/stable/modules/linear_model.html#logistic-regression\n",
                        "  n_iter_i = _check_optimize_result(\n",
                        "/home/vscode/.local/lib/python3.12/site-packages/sklearn/linear_model/_logistic.py:469: ConvergenceWarning: lbfgs failed to converge (status=1):\n",
                        "STOP: TOTAL NO. of ITERATIONS REACHED LIMIT.\n",
                        "\n",
                        "Increase the number of iterations (max_iter) or scale the data as shown in:\n",
                        "    https://scikit-learn.org/stable/modules/preprocessing.html\n",
                        "Please also refer to the documentation for alternative solver options:\n",
                        "    https://scikit-learn.org/stable/modules/linear_model.html#logistic-regression\n",
                        "  n_iter_i = _check_optimize_result(\n",
                        "/home/vscode/.local/lib/python3.12/site-packages/sklearn/linear_model/_logistic.py:469: ConvergenceWarning: lbfgs failed to converge (status=1):\n",
                        "STOP: TOTAL NO. of ITERATIONS REACHED LIMIT.\n",
                        "\n",
                        "Increase the number of iterations (max_iter) or scale the data as shown in:\n",
                        "    https://scikit-learn.org/stable/modules/preprocessing.html\n",
                        "Please also refer to the documentation for alternative solver options:\n",
                        "    https://scikit-learn.org/stable/modules/linear_model.html#logistic-regression\n",
                        "  n_iter_i = _check_optimize_result(\n",
                        "/home/vscode/.local/lib/python3.12/site-packages/sklearn/linear_model/_logistic.py:469: ConvergenceWarning: lbfgs failed to converge (status=1):\n",
                        "STOP: TOTAL NO. of ITERATIONS REACHED LIMIT.\n",
                        "\n",
                        "Increase the number of iterations (max_iter) or scale the data as shown in:\n",
                        "    https://scikit-learn.org/stable/modules/preprocessing.html\n",
                        "Please also refer to the documentation for alternative solver options:\n",
                        "    https://scikit-learn.org/stable/modules/linear_model.html#logistic-regression\n",
                        "  n_iter_i = _check_optimize_result(\n",
                        "/home/vscode/.local/lib/python3.12/site-packages/sklearn/model_selection/_validation.py:540: FitFailedWarning: \n",
                        "36 fits failed out of a total of 60.\n",
                        "The score on these train-test partitions for these parameters will be set to nan.\n",
                        "If these failures are not expected, you can try to debug them by setting error_score='raise'.\n",
                        "\n",
                        "Below are more details about the failures:\n",
                        "--------------------------------------------------------------------------------\n",
                        "36 fits failed with the following error:\n",
                        "Traceback (most recent call last):\n",
                        "  File \"/home/vscode/.local/lib/python3.12/site-packages/sklearn/model_selection/_validation.py\", line 888, in _fit_and_score\n",
                        "    estimator.fit(X_train, y_train, **fit_params)\n",
                        "  File \"/home/vscode/.local/lib/python3.12/site-packages/sklearn/base.py\", line 1473, in wrapper\n",
                        "    return fit_method(estimator, *args, **kwargs)\n",
                        "           ^^^^^^^^^^^^^^^^^^^^^^^^^^^^^^^^^^^^^^\n",
                        "  File \"/home/vscode/.local/lib/python3.12/site-packages/sklearn/linear_model/_logistic.py\", line 1194, in fit\n",
                        "    solver = _check_solver(self.solver, self.penalty, self.dual)\n",
                        "             ^^^^^^^^^^^^^^^^^^^^^^^^^^^^^^^^^^^^^^^^^^^^^^^^^^^\n",
                        "  File \"/home/vscode/.local/lib/python3.12/site-packages/sklearn/linear_model/_logistic.py\", line 67, in _check_solver\n",
                        "    raise ValueError(\n",
                        "ValueError: Solver lbfgs supports only 'l2' or None penalties, got l1 penalty.\n",
                        "\n",
                        "  warnings.warn(some_fits_failed_message, FitFailedWarning)\n",
                        "/home/vscode/.local/lib/python3.12/site-packages/sklearn/model_selection/_search.py:1052: UserWarning: One or more of the test scores are non-finite: [       nan 0.64331493        nan        nan        nan 0.73451678\n",
                        " 0.70191637        nan        nan 0.64331493]\n",
                        "  warnings.warn(\n",
                        "/home/vscode/.local/lib/python3.12/site-packages/sklearn/linear_model/_logistic.py:469: ConvergenceWarning: lbfgs failed to converge (status=1):\n",
                        "STOP: TOTAL NO. of ITERATIONS REACHED LIMIT.\n",
                        "\n",
                        "Increase the number of iterations (max_iter) or scale the data as shown in:\n",
                        "    https://scikit-learn.org/stable/modules/preprocessing.html\n",
                        "Please also refer to the documentation for alternative solver options:\n",
                        "    https://scikit-learn.org/stable/modules/linear_model.html#logistic-regression\n",
                        "  n_iter_i = _check_optimize_result(\n"
                    ]
                }
            ],
            "source": [
                "# Create the parameter space\n",
                "params = {\"penalty\": [\"l1\", \"l2\"],\n",
                "         \"tol\": np.linspace(0.0001, 1.0, 50),\n",
                "         \"C\": np.linspace(0.1, 1.0, 50),\n",
                "         \"class_weight\": [\"balanced\", {0:0.8, 1:0.2}]}\n",
                "\n",
                "# Instantiate the RandomizedSearchCV object\n",
                "logreg_cv = RandomizedSearchCV(logreg, params, cv=kf)\n",
                "\n",
                "# Fit the data to the model\n",
                "logreg_cv.fit(X_train, y_train)\n",
                "\n",
                "# Print the tuned parameters and score\n",
                "print(\"Tuned Logistic Regression Parameters: {}\".format(logreg_cv.best_params_))\n",
                "print(\"Tuned Logistic Regression Best Accuracy Score: {}\".format(logreg_cv.best_score_))\n"
            ]
        },
        {
            "cell_type": "markdown",
            "metadata": {},
            "source": [
                "## Preprocessing and Pipelines\n",
                "\n"
            ]
        },
        {
            "cell_type": "markdown",
            "metadata": {},
            "source": [
                "### Creating dummy variables\n",
                "\n",
                "Being able to include categorical features in the model building process\n",
                "can enhance performance as they may add information that contributes to\n",
                "prediction accuracy.\n",
                "\n",
                "The `music_df` dataset has been preloaded for you, and its shape is\n",
                "printed. Also, `pandas` has been imported as `pd`.\n",
                "\n",
                "Now you will create a new DataFrame containing the original columns of\n",
                "`music_df` plus dummy variables from the `\"genre\"` column.\n",
                "\n",
                "**Instructions**\n",
                "\n",
                "- Use a relevant function, passing the entire `music_df` DataFrame, to\n",
                "  create `music_dummies`, dropping the first binary column.\n",
                "- Print the shape of `music_dummies`.\n",
                "\n",
                "**Answer**\n"
            ]
        },
        {
            "cell_type": "code",
            "execution_count": 37,
            "metadata": {},
            "outputs": [],
            "source": [
                "# added/edited\n",
                "music_df = pd.read_csv(\"music_clean.csv\")"
            ]
        },
        {
            "cell_type": "code",
            "execution_count": 38,
            "metadata": {},
            "outputs": [
                {
                    "name": "stdout",
                    "output_type": "stream",
                    "text": [
                        "Shape of music_dummies: (1000, 20)\n"
                    ]
                }
            ],
            "source": [
                "# Create music_dummies\n",
                "music_dummies = pd.get_dummies(music_df, drop_first=True)\n",
                "\n",
                "# Print the new DataFrame's shape\n",
                "print(\"Shape of music_dummies: {}\".format(music_dummies.shape))\n"
            ]
        },
        {
            "cell_type": "markdown",
            "metadata": {},
            "source": [
                "### Regression with categorical features\n",
                "\n",
                "Now you have created `music_dummies`, containing binary features for\n",
                "each song's genre, it's time to build a ridge regression model to\n",
                "predict song popularity.\n",
                "\n",
                "`music_dummies` has been preloaded for you, along with `Ridge`,\n",
                "`cross_val_score`, `numpy` as `np`, and a `KFold` object stored as `kf`.\n",
                "\n",
                "The model will be evaluated by calculating the average RMSE, but first,\n",
                "you will need to convert the scores for each fold to positive values and\n",
                "take their square root. This metric shows the average error of our\n",
                "model's predictions, so it can be compared against the standard\n",
                "deviation of the target value—`\"popularity\"`.\n",
                "\n",
                "**Instructions**\n",
                "\n",
                "- Create `X`, containing all features in `music_dummies`, and `y`,\n",
                "  consisting of the `\"popularity\"` column, respectively.\n",
                "- Instantiate a ridge regression model, setting `alpha` equal to 0.2.\n",
                "- Perform cross-validation on `X` and `y` using the ridge model, setting\n",
                "  `cv` equal to `kf`, and using negative mean squared error as the\n",
                "  scoring metric.\n",
                "- Print the RMSE values by converting negative `scores` to positive and\n",
                "  taking the square root.\n",
                "\n",
                "**Answer**\n"
            ]
        },
        {
            "cell_type": "code",
            "execution_count": 39,
            "metadata": {},
            "outputs": [
                {
                    "name": "stdout",
                    "output_type": "stream",
                    "text": [
                        "Average RMSE: 8.17890969490996\n",
                        "Standard Deviation of the target array: 14.02156909907019\n"
                    ]
                }
            ],
            "source": [
                "# Create X and y\n",
                "X = music_dummies.drop(\"popularity\", axis=1).values\n",
                "y = music_dummies[\"popularity\"].values\n",
                "\n",
                "# Instantiate a ridge model\n",
                "ridge = Ridge(alpha=0.2)\n",
                "\n",
                "# Perform cross-validation\n",
                "scores = cross_val_score(ridge, X, y, cv=kf, scoring=\"neg_mean_squared_error\")\n",
                "\n",
                "# Calculate RMSE\n",
                "rmse = np.sqrt(-scores)\n",
                "print(\"Average RMSE: {}\".format(np.mean(rmse)))\n",
                "print(\"Standard Deviation of the target array: {}\".format(np.std(y)))\n"
            ]
        },
        {
            "cell_type": "markdown",
            "metadata": {},
            "source": [
                "### Dropping missing data\n",
                "\n",
                "Over the next three exercises, you are going to tidy the `music_df`\n",
                "dataset. You will create a pipeline to impute missing values and build a\n",
                "KNN classifier model, then use it to predict whether a song is of the\n",
                "`\"Rock\"` genre.\n",
                "\n",
                "In this exercise specifically, you will drop missing values accounting\n",
                "for less than 5% of the dataset, and convert the `\"genre\"` column into a\n",
                "binary feature.\n",
                "\n",
                "**Instructions**\n",
                "\n",
                "- Print the number of missing values for each column in the `music_df`\n",
                "  dataset, sorted in ascending order.\n",
                "- Remove values for all columns with 50 or fewer missing values.\n",
                "- Convert `music_df[\"genre\"]` to values of `1` if the row contains `\"Rock\"`, otherwise change the value to `0`.\n",
                "\n",
                "**Answer**\n"
            ]
        },
        {
            "cell_type": "code",
            "execution_count": 40,
            "metadata": {},
            "outputs": [],
            "source": [
                "# added/edited\n",
                "music_df = pd.read_csv(\"music.csv\")"
            ]
        },
        {
            "cell_type": "code",
            "execution_count": 41,
            "metadata": {},
            "outputs": [
                {
                    "name": "stdout",
                    "output_type": "stream",
                    "text": [
                        "genre                 8\n",
                        "popularity           31\n",
                        "loudness             44\n",
                        "liveness             46\n",
                        "tempo                46\n",
                        "speechiness          59\n",
                        "duration_ms          91\n",
                        "instrumentalness     91\n",
                        "danceability        143\n",
                        "valence             143\n",
                        "acousticness        200\n",
                        "energy              200\n",
                        "dtype: int64\n",
                        "popularity            0\n",
                        "liveness              0\n",
                        "loudness              0\n",
                        "tempo                 0\n",
                        "genre                 0\n",
                        "duration_ms          29\n",
                        "instrumentalness     29\n",
                        "speechiness          53\n",
                        "danceability        127\n",
                        "valence             127\n",
                        "acousticness        178\n",
                        "energy              178\n",
                        "dtype: int64\n",
                        "Shape of the `music_df`: (892, 12)\n"
                    ]
                }
            ],
            "source": [
                "# Print missing values for each column\n",
                "print(music_df.isna().sum().sort_values())\n",
                "\n",
                "# Remove values where less than 5% are missing\n",
                "music_df = music_df.dropna(subset=[\"genre\", \"popularity\", \"loudness\", \"liveness\", \"tempo\"])\n",
                "\n",
                "# Convert genre to a binary feature\n",
                "music_df[\"genre\"] = np.where(music_df[\"genre\"] == \"Rock\", 1, 0)\n",
                "\n",
                "print(music_df.isna().sum().sort_values())\n",
                "print(\"Shape of the `music_df`: {}\".format(music_df.shape))"
            ]
        },
        {
            "cell_type": "markdown",
            "metadata": {},
            "source": [
                "### Pipeline for song genre prediction: I\n",
                "\n",
                "Now it's time to build a pipeline. It will contain steps to impute\n",
                "missing values using the mean for each feature and build a KNN model for\n",
                "the classification of song genre.\n",
                "\n",
                "The modified `music_df` dataset that you created in the previous\n",
                "exercise has been preloaded for you, along with `KNeighborsClassifier`\n",
                "and `train_test_split`.\n",
                "\n",
                "**Instructions**\n",
                "\n",
                "- Import `SimpleImputer` and `Pipeline`.\n",
                "- Instantiate an imputer.\n",
                "- Instantiate a KNN classifier with three neighbors.\n",
                "- Create `steps`, a list of tuples containing the imputer variable you\n",
                "  created, called `\"imputer\"`, followed by the `knn` model you created,\n",
                "  called `\"knn\"`.\n",
                "\n",
                "**Answer**\n"
            ]
        },
        {
            "cell_type": "code",
            "execution_count": 42,
            "metadata": {},
            "outputs": [],
            "source": [
                "# added/edited\n",
                "music_df = pd.read_csv(\"music_clean.csv\")\n"
            ]
        },
        {
            "cell_type": "code",
            "execution_count": 43,
            "metadata": {},
            "outputs": [],
            "source": [
                "# Import modules\n",
                "from sklearn.impute import SimpleImputer\n",
                "from sklearn.pipeline import Pipeline\n",
                "\n",
                "# Instantiate an imputer\n",
                "imputer = SimpleImputer()\n",
                "\n",
                "# Instantiate a knn model\n",
                "knn = KNeighborsClassifier(n_neighbors=3)\n",
                "\n",
                "# Build steps for the pipeline\n",
                "steps = [(\"imputer\", imputer), \n",
                "         (\"knn\", knn)]\n"
            ]
        },
        {
            "cell_type": "markdown",
            "metadata": {},
            "source": [
                "### Pipeline for song genre prediction: II\n",
                "\n",
                "Having set up the steps of the pipeline in the previous exercise, you\n",
                "will now use it on the `music_df` dataset to classify the genre of\n",
                "songs. What makes pipelines so incredibly useful is the simple interface\n",
                "that they provide.\n",
                "\n",
                "`X_train`, `X_test`, `y_train`, and `y_test` have been preloaded for\n",
                "you, and `confusion_matrix` has been imported from `sklearn.metrics`.\n",
                "\n",
                "**Instructions**\n",
                "\n",
                "- Create a pipeline using the steps you previously defined.\n",
                "- Fit the pipeline to the training data.\n",
                "- Make predictions on the test set.\n",
                "- Calculate and print the confusion matrix.\n",
                "\n",
                "**Answer**\n"
            ]
        },
        {
            "cell_type": "code",
            "execution_count": 44,
            "metadata": {},
            "outputs": [],
            "source": [
                "# added/edited\n",
                "music_df = pd.read_csv(\"music_.csv\")\n",
                "X = music_df.drop(\"genre\", axis=1).values\n",
                "y = music_df[\"genre\"].values\n",
                "X_train, X_test, y_train, y_test = train_test_split(X, y, test_size=0.2, random_state=42, stratify=y)\n",
                "imp_mean = SimpleImputer()"
            ]
        },
        {
            "cell_type": "code",
            "execution_count": 45,
            "metadata": {},
            "outputs": [
                {
                    "name": "stdout",
                    "output_type": "stream",
                    "text": [
                        "[[76 11]\n",
                        " [ 1 86]]\n"
                    ]
                }
            ],
            "source": [
                "steps = [(\"imputer\", imp_mean),\n",
                "        (\"knn\", knn)]\n",
                "\n",
                "# Create the pipeline\n",
                "pipeline = Pipeline(steps)\n",
                "\n",
                "# Fit the pipeline to the training data\n",
                "pipeline.fit(X_train, y_train)\n",
                "\n",
                "# Make predictions on the test set\n",
                "y_pred = pipeline.predict(X_test)\n",
                "\n",
                "# Print the confusion matrix\n",
                "print(confusion_matrix(y_test, y_pred))\n"
            ]
        },
        {
            "cell_type": "markdown",
            "metadata": {},
            "source": [
                "### Centering and scaling for regression\n",
                "\n",
                "Now you have seen the benefits of scaling your data, you will use a\n",
                "pipeline to preprocess the `music_df` features and build a lasso\n",
                "regression model to predict a song's loudness.\n",
                "\n",
                "`X_train`, `X_test`, `y_train`, and `y_test` have been created from the\n",
                "`music_df` dataset, where the target is `\"loudness\"` and the features\n",
                "are all other columns in the dataset. `Lasso` and `Pipeline` have also\n",
                "been imported for you.\n",
                "\n",
                "Note that `\"genre\"` has been converted to a binary feature where `1`\n",
                "indicates a rock song, and `0` represents other genres.\n",
                "\n",
                "**Instructions**\n",
                "\n",
                "- Import `StandardScaler`.\n",
                "- Create the steps for the pipeline object, a `StandardScaler` object\n",
                "  called `\"scaler\"`, and a lasso model called `\"lasso\"` with `alpha` set\n",
                "  to `0.5`.\n",
                "- Instantiate a pipeline with steps to scale and build a lasso\n",
                "  regression model.\n",
                "- Calculate the R-squared value on the test data.\n",
                "\n",
                "**Answer**\n"
            ]
        },
        {
            "cell_type": "code",
            "execution_count": 46,
            "metadata": {},
            "outputs": [],
            "source": [
                "# added/edited\n",
                "music_df = pd.read_csv(\"music_clean_.csv\")\n",
                "X = music_df.drop(\"loudness\", axis=1).values\n",
                "y = music_df[\"loudness\"].values\n",
                "X_train, X_test, y_train, y_test = train_test_split(X, y, test_size=0.3, random_state=42)"
            ]
        },
        {
            "cell_type": "code",
            "execution_count": 47,
            "metadata": {},
            "outputs": [
                {
                    "name": "stdout",
                    "output_type": "stream",
                    "text": [
                        "0.6138929527086421\n"
                    ]
                }
            ],
            "source": [
                "# Import StandardScaler\n",
                "from sklearn.preprocessing import StandardScaler\n",
                "\n",
                "# Create pipeline steps\n",
                "steps = [(\"scaler\", StandardScaler()),\n",
                "         (\"lasso\", Lasso(alpha=0.5))]\n",
                "\n",
                "# Instantiate the pipeline\n",
                "pipeline = Pipeline(steps)\n",
                "pipeline.fit(X_train, y_train)\n",
                "\n",
                "# Calculate and print R-squared\n",
                "print(pipeline.score(X_test, y_test))\n"
            ]
        },
        {
            "cell_type": "markdown",
            "metadata": {},
            "source": [
                "### Centering and scaling for classification\n",
                "\n",
                "Now you will bring together scaling and model building into a pipeline\n",
                "for cross-validation.\n",
                "\n",
                "Your task is to build a pipeline to scale features in the `music_df`\n",
                "dataset and perform grid search cross-validation using a logistic\n",
                "regression model with different values for the hyperparameter `C`. The\n",
                "target variable here is `\"genre\"`, which contains binary values for rock\n",
                "as `1` and any other genre as `0`.\n",
                "\n",
                "`StandardScaler`, `LogisticRegression`, and `GridSearchCV` have all been\n",
                "imported for you.\n",
                "\n",
                "**Instructions**\n",
                "\n",
                "- Build the steps for the pipeline: a `StandardScaler()` object named\n",
                "  `\"scaler\"`, and a logistic regression model named `\"logreg\"`.\n",
                "- Create the `parameters`, searching 20 equally spaced float values\n",
                "  ranging from `0.001` to `1.0` for the logistic regression model's `C`\n",
                "  hyperparameter within the pipeline.\n",
                "- Instantiate the grid search object.\n",
                "- Fit the grid search object to the training data.\n",
                "\n",
                "**Answer**\n"
            ]
        },
        {
            "cell_type": "code",
            "execution_count": 48,
            "metadata": {},
            "outputs": [],
            "source": [
                "# added/edited\n",
                "music_df = pd.read_csv(\"music_clean_.csv\")\n",
                "X = music_df.drop(\"genre\", axis=1).values\n",
                "y = music_df[\"genre\"].values\n"
            ]
        },
        {
            "cell_type": "code",
            "execution_count": 49,
            "metadata": {},
            "outputs": [
                {
                    "name": "stdout",
                    "output_type": "stream",
                    "text": [
                        "0.8412499999999999 \n",
                        " {'logreg__C': 0.1061578947368421}\n"
                    ]
                }
            ],
            "source": [
                "# Build the steps\n",
                "steps = [(\"scaler\", StandardScaler()),\n",
                "         (\"logreg\", LogisticRegression())]\n",
                "pipeline = Pipeline(steps)\n",
                "\n",
                "# Create the parameter space\n",
                "parameters = {\"logreg__C\": np.linspace(0.001, 1.0, 20)}\n",
                "X_train, X_test, y_train, y_test = train_test_split(X, y, test_size=0.2, \n",
                "                                                    random_state=21)\n",
                "\n",
                "# Instantiate the grid search object\n",
                "cv = GridSearchCV(pipeline, param_grid=parameters)\n",
                "\n",
                "# Fit to the training data\n",
                "cv.fit(X_train, y_train)\n",
                "print(cv.best_score_, \"\\n\", cv.best_params_)\n"
            ]
        },
        {
            "cell_type": "markdown",
            "metadata": {},
            "source": [
                "### Visualizing regression model performance\n",
                "\n",
                "Now you have seen how to evaluate multiple models out of the box, you\n",
                "will build three regression models to predict a song's `\"energy\"`\n",
                "levels.\n",
                "\n",
                "The `music_df` dataset has had dummy variables for `\"genre\"` added.\n",
                "Also, feature and target arrays have been created, and these have been\n",
                "split into `X_train`, `X_test`, `y_train`, and `y_test`.\n",
                "\n",
                "The following have been imported for you: `LinearRegression`, `Ridge`,\n",
                "`Lasso`, `cross_val_score`, and `KFold`.\n",
                "\n",
                "**Instructions**\n",
                "\n",
                "- Write a for loop using `model` as the iterator, and `model.values()`\n",
                "  as the iterable.\n",
                "- Perform cross-validation on the training features and the training\n",
                "  target array using the model, setting `cv` equal to the `KFold`\n",
                "  object.\n",
                "- Append the model's cross-validation scores to the results list.\n",
                "- Create a box plot displaying the results, with the x-axis labels as\n",
                "  the names of the models.\n",
                "\n",
                "**Answer**\n"
            ]
        },
        {
            "cell_type": "code",
            "execution_count": 50,
            "metadata": {},
            "outputs": [
                {
                    "name": "stderr",
                    "output_type": "stream",
                    "text": [
                        "/tmp/ipykernel_2099/1078698517.py:15: MatplotlibDeprecationWarning: The 'labels' parameter of boxplot() has been renamed 'tick_labels' since Matplotlib 3.9; support for the old name will be dropped in 3.11.\n",
                        "  plt.boxplot(results, labels=models.keys())\n"
                    ]
                },
                {
                    "data": {
                        "image/png": "[encoded data removed]",
                        "text/plain": [
                            "<Figure size 640x480 with 1 Axes>"
                        ]
                    },
                    "metadata": {},
                    "output_type": "display_data"
                }
            ],
            "source": [
                "models = {\"Linear Regression\": LinearRegression(), \"Ridge\": Ridge(alpha=0.1), \"Lasso\": Lasso(alpha=0.1)}\n",
                "results = []\n",
                "\n",
                "# Loop through the models' values\n",
                "for model in models.values():\n",
                "  kf = KFold(n_splits=6, random_state=42, shuffle=True)\n",
                "  \n",
                "  # Perform cross-validation\n",
                "  cv_scores = cross_val_score(model, X_train, y_train, cv=kf)\n",
                "  \n",
                "  # Append the results\n",
                "  results.append(cv_scores)\n",
                "  \n",
                "# Create a box plot of the results\n",
                "plt.boxplot(results, labels=models.keys())\n",
                "plt.show()\n"
            ]
        },
        {
            "cell_type": "markdown",
            "metadata": {},
            "source": [
                "### Predicting on the test set\n",
                "\n",
                "In the last exercise, linear regression and ridge appeared to produce\n",
                "similar results. It would be appropriate to select either of those\n",
                "models; however, you can check predictive performance on the test set to\n",
                "see if either one can outperform the other.\n",
                "\n",
                "You will use root mean squared error (RMSE) as the metric. The\n",
                "dictionary `models`, containing the names and instances of the two\n",
                "models, has been preloaded for you along with the training and target\n",
                "arrays `X_train_scaled`, `X_test_scaled`, `y_train`, and `y_test`.\n",
                "\n",
                "**Instructions**\n",
                "\n",
                "- Import `mean_squared_error`.\n",
                "- Fit the model to the scaled training features and the training labels.\n",
                "- Make predictions using the scaled test features.\n",
                "- Calculate RMSE by passing the test set labels and the predicted\n",
                "  labels.\n",
                "\n",
                "**Answer**\n"
            ]
        },
        {
            "cell_type": "code",
            "execution_count": 51,
            "metadata": {},
            "outputs": [],
            "source": [
                "# added/edited\n",
                "from sklearn.preprocessing import StandardScaler\n",
                "scaler = StandardScaler()\n",
                "X_train_scaled = scaler.fit(X_train).transform(X_train)\n",
                "X_test_scaled = scaler.fit(X_train).transform(X_test)\n"
            ]
        },
        {
            "cell_type": "code",
            "execution_count": 52,
            "metadata": {},
            "outputs": [
                {
                    "name": "stdout",
                    "output_type": "stream",
                    "text": [
                        "Linear Regression Test Set RMSE: 0.3893756170131419\n",
                        "Ridge Test Set RMSE: 0.3893738851488792\n",
                        "Lasso Test Set RMSE: 0.4267536063080661\n"
                    ]
                },
                {
                    "name": "stderr",
                    "output_type": "stream",
                    "text": [
                        "/home/vscode/.local/lib/python3.12/site-packages/sklearn/metrics/_regression.py:492: FutureWarning: 'squared' is deprecated in version 1.4 and will be removed in 1.6. To calculate the root mean squared error, use the function'root_mean_squared_error'.\n",
                        "  warnings.warn(\n",
                        "/home/vscode/.local/lib/python3.12/site-packages/sklearn/metrics/_regression.py:492: FutureWarning: 'squared' is deprecated in version 1.4 and will be removed in 1.6. To calculate the root mean squared error, use the function'root_mean_squared_error'.\n",
                        "  warnings.warn(\n",
                        "/home/vscode/.local/lib/python3.12/site-packages/sklearn/metrics/_regression.py:492: FutureWarning: 'squared' is deprecated in version 1.4 and will be removed in 1.6. To calculate the root mean squared error, use the function'root_mean_squared_error'.\n",
                        "  warnings.warn(\n"
                    ]
                }
            ],
            "source": [
                "# Import mean_squared_error\n",
                "from sklearn.metrics import mean_squared_error\n",
                "\n",
                "for name, model in models.items():\n",
                "  \n",
                "  # Fit the model to the training data\n",
                "  model.fit(X_train_scaled, y_train)\n",
                "  \n",
                "  # Make predictions on the test set\n",
                "  y_pred = model.predict(X_test_scaled)\n",
                "  \n",
                "  # Calculate the test_rmse\n",
                "  test_rmse = mean_squared_error(y_test, y_pred, squared=False)\n",
                "  print(\"{} Test Set RMSE: {}\".format(name, test_rmse))\n"
            ]
        },
        {
            "cell_type": "markdown",
            "metadata": {},
            "source": [
                "### Visualizing classification model performance\n",
                "\n",
                "In this exercise, you will be solving a classification problem where the\n",
                "`\"popularity\"` column in the `music_df` dataset has been converted to\n",
                "binary values, with `1` representing popularity more than or equal to\n",
                "the median for the `\"popularity\"` column, and `0` indicating popularity\n",
                "below the median.\n",
                "\n",
                "Your task is to build and visualize the results of three different\n",
                "models to classify whether a song is popular or not.\n",
                "\n",
                "The data has been split, scaled, and preloaded for you as\n",
                "`X_train_scaled`, `X_test_scaled`, `y_train`, and `y_test`.\n",
                "Additionally, `KNeighborsClassifier`, `DecisionTreeClassifier`, and\n",
                "`LogisticRegression` have been imported.\n",
                "\n",
                "**Instructions**\n",
                "\n",
                "- Create a dictionary of `\"Logistic Regression\"`, `\"KNN\"`, and\n",
                "  `\"Decision Tree Classifier\"`, setting the dictionary's values to a\n",
                "  call of each model.\n",
                "- Loop through the values in `models`.\n",
                "- Instantiate a `KFold` object to perform 6 splits, setting `shuffle` to\n",
                "  `True` and `random_state` to `12`.\n",
                "- Perform cross-validation using the model, the scaled training\n",
                "  features, the target training set, and setting `cv` equal to `kf`.\n",
                "\n",
                "**Answer**\n"
            ]
        },
        {
            "cell_type": "code",
            "execution_count": 53,
            "metadata": {},
            "outputs": [],
            "source": [
                "# added/edited\n",
                "from sklearn.tree import DecisionTreeClassifier"
            ]
        },
        {
            "cell_type": "code",
            "execution_count": 54,
            "metadata": {},
            "outputs": [
                {
                    "name": "stderr",
                    "output_type": "stream",
                    "text": [
                        "/tmp/ipykernel_2099/4088242860.py:14: MatplotlibDeprecationWarning: The 'labels' parameter of boxplot() has been renamed 'tick_labels' since Matplotlib 3.9; support for the old name will be dropped in 3.11.\n",
                        "  plt.boxplot(results, labels=models.keys())\n"
                    ]
                },
                {
                    "data": {
                        "image/png": "[encoded data removed]",
                        "text/plain": [
                            "<Figure size 640x480 with 1 Axes>"
                        ]
                    },
                    "metadata": {},
                    "output_type": "display_data"
                }
            ],
            "source": [
                "# Create models dictionary\n",
                "models = {\"Logistic Regression\": LogisticRegression(), \"KNN\": KNeighborsClassifier(), \"Decision Tree Classifier\": DecisionTreeClassifier()}\n",
                "results = []\n",
                "\n",
                "# Loop through the models' values\n",
                "for model in models.values():\n",
                "  \n",
                "  # Instantiate a KFold object\n",
                "  kf = KFold(n_splits=6, random_state=12, shuffle=True)\n",
                "  \n",
                "  # Perform cross-validation\n",
                "  cv_results = cross_val_score(model, X_train_scaled, y_train, cv=kf)\n",
                "  results.append(cv_results)\n",
                "plt.boxplot(results, labels=models.keys())\n",
                "plt.show()\n"
            ]
        },
        {
            "cell_type": "markdown",
            "metadata": {},
            "source": [
                "### Pipeline for predicting song popularity\n",
                "\n",
                "For the final exercise, you will build a pipeline to impute missing\n",
                "values, scale features, and perform hyperparameter tuning of a logistic\n",
                "regression model. The aim is to find the best parameters and accuracy\n",
                "when predicting song genre!\n",
                "\n",
                "All the models and objects required to build the pipeline have been\n",
                "preloaded for you.\n",
                "\n",
                "**Instructions**\n",
                "\n",
                "- Create the steps for the pipeline by calling a simple imputer, a\n",
                "  standard scaler, and a logistic regression model.\n",
                "- Create a pipeline object, and pass the `steps` variable.\n",
                "- Instantiate a grid search object to perform cross-validation using the\n",
                "  pipeline and the parameters.\n",
                "- Print the best parameters and compute and print the test set accuracy\n",
                "  score for the grid search object.\n",
                "\n",
                "**Answer**\n"
            ]
        },
        {
            "cell_type": "code",
            "execution_count": 55,
            "metadata": {},
            "outputs": [
                {
                    "name": "stdout",
                    "output_type": "stream",
                    "text": [
                        "Tuned Logistic Regression Parameters: {'logreg__C': 0.112, 'logreg__solver': 'newton-cg'}, Accuracy: 0.825\n"
                    ]
                }
            ],
            "source": [
                "# Create steps\n",
                "steps = [(\"imp_mean\", SimpleImputer()), \n",
                "         (\"scaler\", StandardScaler()), \n",
                "         (\"logreg\", LogisticRegression())]\n",
                "\n",
                "# Set up pipeline\n",
                "pipeline = Pipeline(steps)\n",
                "params = {\"logreg__solver\": [\"newton-cg\", \"saga\", \"lbfgs\"],\n",
                "         \"logreg__C\": np.linspace(0.001, 1.0, 10)}\n",
                "\n",
                "# Create the GridSearchCV object\n",
                "tuning = GridSearchCV(pipeline, param_grid=params)\n",
                "tuning.fit(X_train, y_train)\n",
                "y_pred = tuning.predict(X_test)\n",
                "\n",
                "# Compute and print performance\n",
                "print(\"Tuned Logistic Regression Parameters: {}, Accuracy: {}\".format(tuning.best_params_, tuning.score(X_test, y_test)))\n"
            ]
        }
    ],
    "metadata": {
        "anaconda-cloud": "",
        "kernelspec": {
            "display_name": "Python 3",
            "language": "python",
            "name": "python3"
        },
        "language_info": {
            "codemirror_mode": {
                "name": "ipython",
                "version": 3
            },
            "file_extension": ".py",
            "mimetype": "text/x-python",
            "name": "python",
            "nbconvert_exporter": "python",
            "pygments_lexer": "ipython3",
            "version": "3.12.3"
        }
    },
    "nbformat": 4,
    "nbformat_minor": 1
}
